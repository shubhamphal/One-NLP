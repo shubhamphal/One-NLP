{
  "nbformat": 4,
  "nbformat_minor": 0,
  "metadata": {
    "colab": {
      "name": "Text Summarization with Universal Sentence Encoder.ipynb",
      "provenance": [],
      "authorship_tag": "ABX9TyMEO0IL5RIp0KAey8TJsoH/",
      "include_colab_link": true
    },
    "kernelspec": {
      "name": "python3",
      "display_name": "Python 3"
    }
  },
  "cells": [
    {
      "cell_type": "markdown",
      "metadata": {
        "id": "view-in-github",
        "colab_type": "text"
      },
      "source": [
        "<a href=\"https://colab.research.google.com/github/shubhamphal/One-NLP/blob/master/Text_Summarization_with_Universal_Sentence_Encoder.ipynb\" target=\"_parent\"><img src=\"https://colab.research.google.com/assets/colab-badge.svg\" alt=\"Open In Colab\"/></a>"
      ]
    },
    {
      "cell_type": "code",
      "metadata": {
        "id": "b7aBVzXPsgU6",
        "colab_type": "code",
        "colab": {}
      },
      "source": [
        "!pip install tensorflow_text"
      ],
      "execution_count": null,
      "outputs": []
    },
    {
      "cell_type": "code",
      "metadata": {
        "id": "lg6LVvolr3WS",
        "colab_type": "code",
        "colab": {}
      },
      "source": [
        "import numpy as np\n",
        "import networkx as nx\n",
        "import tensorflow as tf\n",
        "import tensorflow_hub as hub\n",
        "import tensorflow_text"
      ],
      "execution_count": 49,
      "outputs": []
    },
    {
      "cell_type": "code",
      "metadata": {
        "id": "f7-wzCovvbC3",
        "colab_type": "code",
        "colab": {}
      },
      "source": [
        "universal_sentence_encoder = hub.load(\"https://tfhub.dev/google/universal-sentence-encoder-multilingual-large/3\")"
      ],
      "execution_count": 50,
      "outputs": []
    },
    {
      "cell_type": "code",
      "metadata": {
        "id": "XHLfmJtCsdof",
        "colab_type": "code",
        "colab": {}
      },
      "source": [
        "def read_file(file_name):\n",
        "    file = open(file_name, \"r\")\n",
        "    filedata = file.readlines()\n",
        "    doc = filedata[0].split(\". \")\n",
        "    sentences = []\n",
        "    for sentence in doc:\n",
        "        sentences.append(sentence)\n",
        "    return sentences"
      ],
      "execution_count": 51,
      "outputs": []
    },
    {
      "cell_type": "code",
      "metadata": {
        "id": "C6BH-Tr6tcZy",
        "colab_type": "code",
        "colab": {}
      },
      "source": [
        "def sentence_similarity(sent1, sent2):\n",
        "    emb_1 = universal_sentence_encoder([sent1]) \n",
        "    emb_2 = universal_sentence_encoder([sent2])\n",
        "    return np.inner(emb_1, emb_2).flatten()[0]"
      ],
      "execution_count": 52,
      "outputs": []
    },
    {
      "cell_type": "code",
      "metadata": {
        "id": "FsZI10S7vTTG",
        "colab_type": "code",
        "colab": {}
      },
      "source": [
        "def create_similarity_matrix(sentences):\n",
        "    similarity_matrix = np.zeros((len(sentences), len(sentences)))\n",
        "    for sentence1 in range(len(sentences)):\n",
        "        for sentence2 in range(len(sentences)):\n",
        "            if sentence1 == sentence2:\n",
        "                continue \n",
        "            similarity_matrix[sentence1][sentence2] = sentence_similarity(sentences[sentence1], sentences[sentence2])\n",
        "    return similarity_matrix"
      ],
      "execution_count": 53,
      "outputs": []
    },
    {
      "cell_type": "code",
      "metadata": {
        "id": "m9hMsRaHwC8u",
        "colab_type": "code",
        "colab": {}
      },
      "source": [
        "def generate_summary(file_name, top_n=2):\n",
        "    summarize_text = []\n",
        "    sentences =  read_file(file_name)\n",
        "    sentence_similarity_martix = create_similarity_matrix(sentences)\n",
        "    sentence_similarity_graph = nx.from_numpy_array(sentence_similarity_martix)\n",
        "    scores = nx.pagerank(sentence_similarity_graph)\n",
        "    ranked_sentence = sorted(((scores[i],s) for i,s in enumerate(sentences)), reverse=True)    \n",
        "    print(\"Indexes of top ranked_sentence order are \", ranked_sentence)    \n",
        "    for i in range(top_n):\n",
        "        summarize_text.append(\"\".join(ranked_sentence[i][1]))\n",
        "    return \". \".join(summarize_text)"
      ],
      "execution_count": 56,
      "outputs": []
    },
    {
      "cell_type": "markdown",
      "metadata": {
        "id": "Z3Fi0wOj2eyE",
        "colab_type": "text"
      },
      "source": [
        "News Data url https://www.nytimes.com/2020/07/24/world/coronavirus-covid-19.html\n",
        "Copy paste this data onto a text file\n",
        "\n"
      ]
    },
    {
      "cell_type": "code",
      "metadata": {
        "id": "TXCtZGUjtOss",
        "colab_type": "code",
        "colab": {
          "base_uri": "https://localhost:8080/",
          "height": 55
        },
        "outputId": "ed2bc123-2612-4f80-e2c7-60c34c5f0f45"
      },
      "source": [
        "text_summary=generate_summary('nytimesnews.txt',3)"
      ],
      "execution_count": 57,
      "outputs": [
        {
          "output_type": "stream",
          "text": [
            "Indexes of top ranked_sentence order are  [(0.06740202825220068, 'The United States on Friday came just short of breaking its single-day record for new coronavirus cases, adding more than 73,400, the second-highest daily total, and signaling that infection rates show no signs of slowing'), (0.062188728531415646, 'South Korea, which has been held up as a success story, on Saturday reported 113 new infections, many of them imported'), (0.05919182208384038, 'County officials said there had been a rapid surge in both cases and hospitalizations in recent weeks'), (0.058873901880196824, 'Vietnam on Saturday confirmed a new infection, its first reported case of community transmission in 100 days'), (0.05580278205046402, 'As the number of cases has continued to climb, so has the number of hospitalizations, which had skirted its own record in recent days'), (0.052793191198487015, 'Since then, the situation has worsened across a number of states'), (0.05200019394622272, 'nears a single-day record as infections show no sign of slowing'), (0.051894549951108385, 'The national number of hospitalizations dipped briefly below 28,000 in mid-June'), (0.049533624710338196, 'The county’s infection rate of about 2,350 per 100,000 people is far higher than in more populous parts of Texas, including Houston, a national virus hot spot'), (0.04526974370769269, 'Friday was also the fourth consecutive day with more than 1,100 deaths reported'), (0.045220424910253874, 'On Friday, the number of people known to be hospitalized with the coronavirus in the United States was 59,670, according to the Covid Tracking Project, a few hundred short of the record of 59,940 reported by the database on April 15'), (0.04499707982043084, 'In South Texas, a rural, impoverished county near the border is a grim example of the type of hospital crisis that could arise elsewhere'), (0.04403007035093679, 'Globally, the rise in cases is also affecting countries that had previously seemed to be models in reducing and controlling infections'), (0.04014672839990043, 'And in Israel, Prime Minister Benjamin Netanyahu, who was praised for his initial success in handling the pandemic, has this week seen thousands of young people take to the streets, demanding that he quit over what they see as his flubbed response to the coronavirus'), (0.03739695413035093, 'The single-day record, set on July 16, is 75,697 cases'), (0.034615078172720644, 'In Starr County, which has more cases than its single hospital can handle, ethics committees have been formed to help determine which patients should be treated and which should be sent home to die'), (0.03403171725123104, ' It was the first time since April 1 that the daily caseload had broken 100'), (0.033518155227286996, 'Since June 24, the seven-day average has more than doubled, from 31,402 to more than 66,100 on Friday'), (0.030735356637766692, 'The situation is so dire that Pentagon officials have dispatched Army and Navy personnel to the Starr County hospital and other medical centers in border cities to provide support, and state and federal officials have sent morgue trailers, ventilators, testing teams and surgical masks to the Rio Grande Valley'), (0.029960328331824916, 'We’ve learned that we have to look out for ourselves, said Maayan Shrem, 25, a youth counselor and former combat soldier who came to the protest Thursday night from his hometown, Karmiel, a two-hour bus ride from Jerusalem'), (0.022838036026004246, 'Netanyahu, who has been in power for 11 years, with a new political risk'), (0.019839881858741887, 'The U.S'), (0.0151166501453677, 'Their anger is presenting Mr'), (0.012602972425216439, 'Holding a placard that read “We will not cease to fight for our country, his friend, Oren Gery, 26, added, “Change has to come from the bottom up.')]\n"
          ],
          "name": "stdout"
        }
      ]
    },
    {
      "cell_type": "code",
      "metadata": {
        "id": "TNTx8kH750f9",
        "colab_type": "code",
        "colab": {
          "base_uri": "https://localhost:8080/",
          "height": 55
        },
        "outputId": "e112feac-d77d-45cb-938d-f10ed5f1b41a"
      },
      "source": [
        "print(text_summary)"
      ],
      "execution_count": 58,
      "outputs": [
        {
          "output_type": "stream",
          "text": [
            "The United States on Friday came just short of breaking its single-day record for new coronavirus cases, adding more than 73,400, the second-highest daily total, and signaling that infection rates show no signs of slowing. South Korea, which has been held up as a success story, on Saturday reported 113 new infections, many of them imported. County officials said there had been a rapid surge in both cases and hospitalizations in recent weeks\n"
          ],
          "name": "stdout"
        }
      ]
    }
  ]
}