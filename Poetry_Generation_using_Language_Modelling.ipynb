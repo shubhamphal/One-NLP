{
  "nbformat": 4,
  "nbformat_minor": 0,
  "metadata": {
    "colab": {
      "name": "Poetry Generation using Language Modelling.ipynb",
      "provenance": [],
      "authorship_tag": "ABX9TyPzvKFIPed3p8h9L6F0DzR6",
      "include_colab_link": true
    },
    "kernelspec": {
      "name": "python3",
      "display_name": "Python 3"
    },
    "accelerator": "TPU"
  },
  "cells": [
    {
      "cell_type": "markdown",
      "metadata": {
        "id": "view-in-github",
        "colab_type": "text"
      },
      "source": [
        "<a href=\"https://colab.research.google.com/github/shubhamphal/One-NLP/blob/master/Poetry_Generation_using_Language_Modelling.ipynb\" target=\"_parent\"><img src=\"https://colab.research.google.com/assets/colab-badge.svg\" alt=\"Open In Colab\"/></a>"
      ]
    },
    {
      "cell_type": "code",
      "metadata": {
        "id": "caHEpIVSFiJh"
      },
      "source": [
        "import os\n",
        "import sys\n",
        "import string\n",
        "import numpy as np\n",
        "import pandas as pd\n",
        "import matplotlib.pyplot as plt"
      ],
      "execution_count": 2,
      "outputs": []
    },
    {
      "cell_type": "code",
      "metadata": {
        "id": "TQKPYYl2Fp9e"
      },
      "source": [
        "from keras.models import Model\n",
        "from keras.layers import Dense, Embedding, Input, LSTM\n",
        "from keras.preprocessing.text import Tokenizer\n",
        "from keras.preprocessing.sequence import pad_sequences\n",
        "from keras.optimizers import Adam, SGD"
      ],
      "execution_count": 3,
      "outputs": []
    },
    {
      "cell_type": "code",
      "metadata": {
        "id": "iw7OnMChFtop"
      },
      "source": [
        "try:\n",
        "  import keras.backend as K\n",
        "  if len(K.tensorflow_backend._get_available_gpus()) > 0:\n",
        "    from keras.layers import CuDNNLSTM as LSTM\n",
        "    from keras.layers import CuDNNGRU as GRU\n",
        "except:\n",
        "  pass"
      ],
      "execution_count": 4,
      "outputs": []
    },
    {
      "cell_type": "code",
      "metadata": {
        "id": "r200DWqXR3uz",
        "colab": {
          "base_uri": "https://localhost:8080/"
        },
        "outputId": "60f894b8-dbcf-479a-c166-4202f8aa1e98"
      },
      "source": [
        "!wget nlp.stanford.edu/data/glove.6B.zip"
      ],
      "execution_count": 5,
      "outputs": [
        {
          "output_type": "stream",
          "text": [
            "--2020-12-02 18:31:35--  http://nlp.stanford.edu/data/glove.6B.zip\n",
            "Resolving nlp.stanford.edu (nlp.stanford.edu)... 171.64.67.140\n",
            "Connecting to nlp.stanford.edu (nlp.stanford.edu)|171.64.67.140|:80... connected.\n",
            "HTTP request sent, awaiting response... 302 Found\n",
            "Location: https://nlp.stanford.edu/data/glove.6B.zip [following]\n",
            "--2020-12-02 18:31:35--  https://nlp.stanford.edu/data/glove.6B.zip\n",
            "Connecting to nlp.stanford.edu (nlp.stanford.edu)|171.64.67.140|:443... connected.\n",
            "HTTP request sent, awaiting response... 301 Moved Permanently\n",
            "Location: http://downloads.cs.stanford.edu/nlp/data/glove.6B.zip [following]\n",
            "--2020-12-02 18:31:36--  http://downloads.cs.stanford.edu/nlp/data/glove.6B.zip\n",
            "Resolving downloads.cs.stanford.edu (downloads.cs.stanford.edu)... 171.64.64.22\n",
            "Connecting to downloads.cs.stanford.edu (downloads.cs.stanford.edu)|171.64.64.22|:80... connected.\n",
            "HTTP request sent, awaiting response... 200 OK\n",
            "Length: 862182613 (822M) [application/zip]\n",
            "Saving to: ‘glove.6B.zip’\n",
            "\n",
            "glove.6B.zip        100%[===================>] 822.24M  1.85MB/s    in 6m 27s  \n",
            "\n",
            "2020-12-02 18:38:03 (2.12 MB/s) - ‘glove.6B.zip’ saved [862182613/862182613]\n",
            "\n"
          ],
          "name": "stdout"
        }
      ]
    },
    {
      "cell_type": "code",
      "metadata": {
        "id": "fLP2C0xVR9d9",
        "colab": {
          "base_uri": "https://localhost:8080/"
        },
        "outputId": "ab9dfe46-7a68-46f1-8cfd-d099c8e957c7"
      },
      "source": [
        "!unzip glove.6B.zip"
      ],
      "execution_count": 6,
      "outputs": [
        {
          "output_type": "stream",
          "text": [
            "Archive:  glove.6B.zip\n",
            "  inflating: glove.6B.50d.txt        \n",
            "  inflating: glove.6B.100d.txt       \n",
            "  inflating: glove.6B.200d.txt       \n",
            "  inflating: glove.6B.300d.txt       \n"
          ],
          "name": "stdout"
        }
      ]
    },
    {
      "cell_type": "code",
      "metadata": {
        "id": "Gjj7t_W6FwzC"
      },
      "source": [
        "MAX_SEQUENCE_LENGTH = 100\n",
        "MAX_VOCAB_SIZE = 3000\n",
        "EMBEDDING_DIM = 50\n",
        "VALIDATION_SPLIT = 0.2\n",
        "BATCH_SIZE = 128\n",
        "EPOCHS = 200  #Increase the number of epochs to 2000 or greater for better results\n",
        "LATENT_DIM = 25"
      ],
      "execution_count": 7,
      "outputs": []
    },
    {
      "cell_type": "markdown",
      "metadata": {
        "id": "-wztfEIdvSxE"
      },
      "source": [
        ""
      ]
    },
    {
      "cell_type": "code",
      "metadata": {
        "id": "mznkRwq-GC2M"
      },
      "source": [
        "input_texts=[]\n",
        "target_texts=[]\n",
        "\n",
        "for line in open('robert_frost.txt'):\n",
        "  line =line.rstrip()\n",
        "  if not line:\n",
        "    continue\n",
        "  input_line='<sos> '+line\n",
        "  target_line=line+' <eos>'\n",
        "  input_texts.append(input_line)\n",
        "  target_texts.append(target_line)"
      ],
      "execution_count": 8,
      "outputs": []
    },
    {
      "cell_type": "code",
      "metadata": {
        "id": "WVHHcTYPNFrC"
      },
      "source": [
        "all_lines=input_texts+target_texts"
      ],
      "execution_count": 9,
      "outputs": []
    },
    {
      "cell_type": "code",
      "metadata": {
        "id": "biuZQghYNlgl"
      },
      "source": [
        "tokenizer=Tokenizer(num_words=MAX_VOCAB_SIZE,filters='')\n",
        "tokenizer.fit_on_texts(all_lines)\n",
        "input_sequences=tokenizer.texts_to_sequences(input_texts)\n",
        "target_sequences=tokenizer.texts_to_sequences(target_texts)"
      ],
      "execution_count": 10,
      "outputs": []
    },
    {
      "cell_type": "code",
      "metadata": {
        "id": "UlfCbtdrO1-2",
        "colab": {
          "base_uri": "https://localhost:8080/"
        },
        "outputId": "53bd5c4e-4d87-4f25-c3f8-4089f125ab92"
      },
      "source": [
        "max_sequence_length=max(len(s) for s in input_sequences)\n",
        "print(\"Max sequence length \",max_sequence_length)"
      ],
      "execution_count": 11,
      "outputs": [
        {
          "output_type": "stream",
          "text": [
            "Max sequence length  12\n"
          ],
          "name": "stdout"
        }
      ]
    },
    {
      "cell_type": "code",
      "metadata": {
        "id": "pBri6msbPzSR",
        "colab": {
          "base_uri": "https://localhost:8080/"
        },
        "outputId": "12ea631a-2436-4c40-c14e-392125295c4c"
      },
      "source": [
        "word2idx=tokenizer.word_index\n",
        "print(len(word2idx))"
      ],
      "execution_count": 12,
      "outputs": [
        {
          "output_type": "stream",
          "text": [
            "3056\n"
          ],
          "name": "stdout"
        }
      ]
    },
    {
      "cell_type": "code",
      "metadata": {
        "id": "zm629-0qQBxt"
      },
      "source": [
        "assert('<sos>' in word2idx)"
      ],
      "execution_count": 13,
      "outputs": []
    },
    {
      "cell_type": "code",
      "metadata": {
        "id": "lr5UJQ5sQLBl"
      },
      "source": [
        "max_sequence_length=max(max_sequence_length,MAX_SEQUENCE_LENGTH)\n",
        "input_sequences=pad_sequences(input_sequences,maxlen=max_sequence_length,padding='post')\n",
        "target_sequences=pad_sequences(target_sequences,maxlen=max_sequence_length,padding='post')"
      ],
      "execution_count": 14,
      "outputs": []
    },
    {
      "cell_type": "code",
      "metadata": {
        "id": "Na3nDInuV4el"
      },
      "source": [
        "f=open(os.path.join('.','glove.6B.%sd.txt'%EMBEDDING_DIM))"
      ],
      "execution_count": 15,
      "outputs": []
    },
    {
      "cell_type": "code",
      "metadata": {
        "id": "T-6GDBdJRZoR"
      },
      "source": [
        "word2vec={}\n",
        "for line in f:\n",
        "  values=line.split()\n",
        "  word=values[0]\n",
        "  vec=np.asarray(values[1:],dtype='float32')\n",
        "  word2vec[word]=vec"
      ],
      "execution_count": 16,
      "outputs": []
    },
    {
      "cell_type": "code",
      "metadata": {
        "id": "2_TiN3mtWf5D"
      },
      "source": [
        "num_words=min(MAX_VOCAB_SIZE,len(word2idx)+1)\n",
        "embedding_matrix=np.random.randn(num_words,EMBEDDING_DIM)*0.1\n",
        "for word, i in word2idx.items():\n",
        "  if i<MAX_VOCAB_SIZE:\n",
        "    emb_vector=word2vec.get(word)\n",
        "    if emb_vector is None:\n",
        "      continue\n",
        "    else:\n",
        "      embedding_matrix[i]=emb_vector"
      ],
      "execution_count": 17,
      "outputs": []
    },
    {
      "cell_type": "code",
      "metadata": {
        "id": "kj63wLOCYigK"
      },
      "source": [
        "one_hot_targets=np.zeros((len(input_sequences),max_sequence_length,num_words))\n",
        "for i, target_sequence in enumerate(target_sequences):\n",
        "  for t, word in enumerate(target_sequence):\n",
        "    if word>0:\n",
        "      one_hot_targets[i,t,word]=1\n"
      ],
      "execution_count": 18,
      "outputs": []
    },
    {
      "cell_type": "code",
      "metadata": {
        "id": "lRxaopuWilP6",
        "colab": {
          "base_uri": "https://localhost:8080/"
        },
        "outputId": "44eaf440-5b73-4220-d84f-82f6b46220ca"
      },
      "source": [
        "one_hot_targets.shape"
      ],
      "execution_count": 19,
      "outputs": [
        {
          "output_type": "execute_result",
          "data": {
            "text/plain": [
              "(1436, 100, 3000)"
            ]
          },
          "metadata": {
            "tags": []
          },
          "execution_count": 19
        }
      ]
    },
    {
      "cell_type": "code",
      "metadata": {
        "id": "KxcxsUAfi_5O",
        "colab": {
          "base_uri": "https://localhost:8080/"
        },
        "outputId": "187d82f4-a4ff-4a5d-89fa-0cf9ac8e5137"
      },
      "source": [
        "embedding_matrix.shape"
      ],
      "execution_count": 20,
      "outputs": [
        {
          "output_type": "execute_result",
          "data": {
            "text/plain": [
              "(3000, 50)"
            ]
          },
          "metadata": {
            "tags": []
          },
          "execution_count": 20
        }
      ]
    },
    {
      "cell_type": "code",
      "metadata": {
        "id": "IFx8MBe6ZTkl"
      },
      "source": [
        "embedding_layer=Embedding(num_words,EMBEDDING_DIM,weights=[embedding_matrix])"
      ],
      "execution_count": 21,
      "outputs": []
    },
    {
      "cell_type": "code",
      "metadata": {
        "id": "p_71g6N1actg"
      },
      "source": [
        "input_ = Input(shape=(MAX_SEQUENCE_LENGTH,))\n",
        "initial_h=Input(shape=(LATENT_DIM,))\n",
        "initial_c=Input(shape=(LATENT_DIM,))\n",
        "x=embedding_layer(input_)\n",
        "lstm=LSTM(LATENT_DIM,return_sequences=True, return_state=True)\n",
        "x, _, _ = lstm(x, initial_state=[initial_h,initial_c])\n",
        "dense=Dense(num_words,activation='softmax')\n",
        "output=dense(x)\n",
        "model=Model([input_,initial_h,initial_c],output)"
      ],
      "execution_count": 22,
      "outputs": []
    },
    {
      "cell_type": "code",
      "metadata": {
        "id": "ZlmOweFTcla8"
      },
      "source": [
        "model.compile(\n",
        "    loss='categorical_crossentropy',\n",
        "    optimizer=Adam(lr=0.01),\n",
        "    metrics=['accuracy']\n",
        ")"
      ],
      "execution_count": 23,
      "outputs": []
    },
    {
      "cell_type": "code",
      "metadata": {
        "id": "Byg2O0-odHcY"
      },
      "source": [
        "z=np.zeros(shape=(len(input_sequences),LATENT_DIM))"
      ],
      "execution_count": 24,
      "outputs": []
    },
    {
      "cell_type": "code",
      "metadata": {
        "id": "37jXnNt8dRhw",
        "colab": {
          "base_uri": "https://localhost:8080/"
        },
        "outputId": "a0f9402c-7742-4e78-a565-176d132d1c32"
      },
      "source": [
        "r = model.fit(\n",
        "  [input_sequences, z, z],\n",
        "  one_hot_targets,\n",
        "  batch_size=BATCH_SIZE,\n",
        "  epochs=EPOCHS,\n",
        "  validation_split=VALIDATION_SPLIT\n",
        ")"
      ],
      "execution_count": 25,
      "outputs": [
        {
          "output_type": "stream",
          "text": [
            "Epoch 1/200\n",
            "9/9 [==============================] - 14s 2s/step - loss: 0.6524 - accuracy: 0.0013 - val_loss: 0.6160 - val_accuracy: 0.0015\n",
            "Epoch 2/200\n",
            "9/9 [==============================] - 14s 2s/step - loss: 0.5626 - accuracy: 0.0024 - val_loss: 0.5775 - val_accuracy: 0.0027\n",
            "Epoch 3/200\n",
            "9/9 [==============================] - 14s 2s/step - loss: 0.5279 - accuracy: 0.0086 - val_loss: 0.5888 - val_accuracy: 0.0100\n",
            "Epoch 4/200\n",
            "9/9 [==============================] - 14s 2s/step - loss: 0.5211 - accuracy: 0.0100 - val_loss: 0.5907 - val_accuracy: 0.0100\n",
            "Epoch 5/200\n",
            "9/9 [==============================] - 14s 2s/step - loss: 0.5160 - accuracy: 0.0100 - val_loss: 0.5968 - val_accuracy: 0.0100\n",
            "Epoch 6/200\n",
            "9/9 [==============================] - 14s 2s/step - loss: 0.5138 - accuracy: 0.0100 - val_loss: 0.5983 - val_accuracy: 0.0100\n",
            "Epoch 7/200\n",
            "9/9 [==============================] - 14s 2s/step - loss: 0.5103 - accuracy: 0.0100 - val_loss: 0.5944 - val_accuracy: 0.0100\n",
            "Epoch 8/200\n",
            "9/9 [==============================] - 14s 2s/step - loss: 0.5060 - accuracy: 0.0100 - val_loss: 0.5903 - val_accuracy: 0.0100\n",
            "Epoch 9/200\n",
            "9/9 [==============================] - 14s 2s/step - loss: 0.5010 - accuracy: 0.0100 - val_loss: 0.5865 - val_accuracy: 0.0100\n",
            "Epoch 10/200\n",
            "9/9 [==============================] - 14s 2s/step - loss: 0.4944 - accuracy: 0.0100 - val_loss: 0.5836 - val_accuracy: 0.0100\n",
            "Epoch 11/200\n",
            "9/9 [==============================] - 14s 2s/step - loss: 0.4873 - accuracy: 0.0100 - val_loss: 0.5811 - val_accuracy: 0.0100\n",
            "Epoch 12/200\n",
            "9/9 [==============================] - 14s 2s/step - loss: 0.4808 - accuracy: 0.0101 - val_loss: 0.5801 - val_accuracy: 0.0101\n",
            "Epoch 13/200\n",
            "9/9 [==============================] - 14s 2s/step - loss: 0.4746 - accuracy: 0.0102 - val_loss: 0.5782 - val_accuracy: 0.0101\n",
            "Epoch 14/200\n",
            "9/9 [==============================] - 14s 2s/step - loss: 0.4691 - accuracy: 0.0108 - val_loss: 0.5775 - val_accuracy: 0.0105\n",
            "Epoch 15/200\n",
            "9/9 [==============================] - 14s 2s/step - loss: 0.4637 - accuracy: 0.0118 - val_loss: 0.5770 - val_accuracy: 0.0106\n",
            "Epoch 16/200\n",
            "9/9 [==============================] - 14s 2s/step - loss: 0.4587 - accuracy: 0.0121 - val_loss: 0.5767 - val_accuracy: 0.0108\n",
            "Epoch 17/200\n",
            "9/9 [==============================] - 14s 2s/step - loss: 0.4539 - accuracy: 0.0128 - val_loss: 0.5770 - val_accuracy: 0.0108\n",
            "Epoch 18/200\n",
            "9/9 [==============================] - 14s 2s/step - loss: 0.4495 - accuracy: 0.0133 - val_loss: 0.5784 - val_accuracy: 0.0110\n",
            "Epoch 19/200\n",
            "9/9 [==============================] - 14s 2s/step - loss: 0.4454 - accuracy: 0.0137 - val_loss: 0.5792 - val_accuracy: 0.0110\n",
            "Epoch 20/200\n",
            "9/9 [==============================] - 14s 2s/step - loss: 0.4415 - accuracy: 0.0139 - val_loss: 0.5800 - val_accuracy: 0.0109\n",
            "Epoch 21/200\n",
            "9/9 [==============================] - 14s 2s/step - loss: 0.4377 - accuracy: 0.0139 - val_loss: 0.5810 - val_accuracy: 0.0110\n",
            "Epoch 22/200\n",
            "9/9 [==============================] - 14s 2s/step - loss: 0.4340 - accuracy: 0.0144 - val_loss: 0.5816 - val_accuracy: 0.0111\n",
            "Epoch 23/200\n",
            "9/9 [==============================] - 14s 2s/step - loss: 0.4304 - accuracy: 0.0145 - val_loss: 0.5827 - val_accuracy: 0.0111\n",
            "Epoch 24/200\n",
            "9/9 [==============================] - 14s 2s/step - loss: 0.4270 - accuracy: 0.0149 - val_loss: 0.5835 - val_accuracy: 0.0112\n",
            "Epoch 25/200\n",
            "9/9 [==============================] - 14s 2s/step - loss: 0.4233 - accuracy: 0.0151 - val_loss: 0.5836 - val_accuracy: 0.0113\n",
            "Epoch 26/200\n",
            "9/9 [==============================] - 14s 2s/step - loss: 0.4196 - accuracy: 0.0152 - val_loss: 0.5836 - val_accuracy: 0.0112\n",
            "Epoch 27/200\n",
            "9/9 [==============================] - 14s 2s/step - loss: 0.4159 - accuracy: 0.0155 - val_loss: 0.5835 - val_accuracy: 0.0114\n",
            "Epoch 28/200\n",
            "9/9 [==============================] - 14s 2s/step - loss: 0.4121 - accuracy: 0.0156 - val_loss: 0.5842 - val_accuracy: 0.0112\n",
            "Epoch 29/200\n",
            "9/9 [==============================] - 14s 2s/step - loss: 0.4085 - accuracy: 0.0157 - val_loss: 0.5844 - val_accuracy: 0.0113\n",
            "Epoch 30/200\n",
            "9/9 [==============================] - 14s 2s/step - loss: 0.4048 - accuracy: 0.0158 - val_loss: 0.5848 - val_accuracy: 0.0114\n",
            "Epoch 31/200\n",
            "9/9 [==============================] - 14s 2s/step - loss: 0.4013 - accuracy: 0.0157 - val_loss: 0.5854 - val_accuracy: 0.0112\n",
            "Epoch 32/200\n",
            "9/9 [==============================] - 14s 2s/step - loss: 0.3977 - accuracy: 0.0160 - val_loss: 0.5857 - val_accuracy: 0.0113\n",
            "Epoch 33/200\n",
            "9/9 [==============================] - 14s 2s/step - loss: 0.3941 - accuracy: 0.0161 - val_loss: 0.5861 - val_accuracy: 0.0114\n",
            "Epoch 34/200\n",
            "9/9 [==============================] - 14s 2s/step - loss: 0.3905 - accuracy: 0.0164 - val_loss: 0.5866 - val_accuracy: 0.0116\n",
            "Epoch 35/200\n",
            "9/9 [==============================] - 14s 2s/step - loss: 0.3867 - accuracy: 0.0168 - val_loss: 0.5882 - val_accuracy: 0.0115\n",
            "Epoch 36/200\n",
            "9/9 [==============================] - 14s 2s/step - loss: 0.3830 - accuracy: 0.0169 - val_loss: 0.5887 - val_accuracy: 0.0116\n",
            "Epoch 37/200\n",
            "9/9 [==============================] - 14s 2s/step - loss: 0.3793 - accuracy: 0.0173 - val_loss: 0.5900 - val_accuracy: 0.0117\n",
            "Epoch 38/200\n",
            "9/9 [==============================] - 14s 2s/step - loss: 0.3757 - accuracy: 0.0178 - val_loss: 0.5908 - val_accuracy: 0.0116\n",
            "Epoch 39/200\n",
            "9/9 [==============================] - 14s 2s/step - loss: 0.3718 - accuracy: 0.0181 - val_loss: 0.5919 - val_accuracy: 0.0115\n",
            "Epoch 40/200\n",
            "9/9 [==============================] - 14s 2s/step - loss: 0.3682 - accuracy: 0.0185 - val_loss: 0.5928 - val_accuracy: 0.0114\n",
            "Epoch 41/200\n",
            "9/9 [==============================] - 14s 2s/step - loss: 0.3642 - accuracy: 0.0187 - val_loss: 0.5940 - val_accuracy: 0.0113\n",
            "Epoch 42/200\n",
            "9/9 [==============================] - 14s 2s/step - loss: 0.3608 - accuracy: 0.0190 - val_loss: 0.5952 - val_accuracy: 0.0111\n",
            "Epoch 43/200\n",
            "9/9 [==============================] - 13s 1s/step - loss: 0.3574 - accuracy: 0.0196 - val_loss: 0.5960 - val_accuracy: 0.0115\n",
            "Epoch 44/200\n",
            "9/9 [==============================] - 13s 1s/step - loss: 0.3541 - accuracy: 0.0197 - val_loss: 0.5980 - val_accuracy: 0.0114\n",
            "Epoch 45/200\n",
            "9/9 [==============================] - 14s 2s/step - loss: 0.3506 - accuracy: 0.0203 - val_loss: 0.5985 - val_accuracy: 0.0115\n",
            "Epoch 46/200\n",
            "9/9 [==============================] - 14s 2s/step - loss: 0.3472 - accuracy: 0.0204 - val_loss: 0.5995 - val_accuracy: 0.0114\n",
            "Epoch 47/200\n",
            "9/9 [==============================] - 14s 2s/step - loss: 0.3438 - accuracy: 0.0209 - val_loss: 0.6007 - val_accuracy: 0.0117\n",
            "Epoch 48/200\n",
            "9/9 [==============================] - 14s 2s/step - loss: 0.3404 - accuracy: 0.0216 - val_loss: 0.6017 - val_accuracy: 0.0115\n",
            "Epoch 49/200\n",
            "9/9 [==============================] - 14s 2s/step - loss: 0.3371 - accuracy: 0.0221 - val_loss: 0.6037 - val_accuracy: 0.0115\n",
            "Epoch 50/200\n",
            "9/9 [==============================] - 14s 2s/step - loss: 0.3340 - accuracy: 0.0223 - val_loss: 0.6046 - val_accuracy: 0.0115\n",
            "Epoch 51/200\n",
            "9/9 [==============================] - 14s 2s/step - loss: 0.3310 - accuracy: 0.0229 - val_loss: 0.6066 - val_accuracy: 0.0114\n",
            "Epoch 52/200\n",
            "9/9 [==============================] - 14s 2s/step - loss: 0.3280 - accuracy: 0.0235 - val_loss: 0.6076 - val_accuracy: 0.0118\n",
            "Epoch 53/200\n",
            "9/9 [==============================] - 14s 2s/step - loss: 0.3251 - accuracy: 0.0236 - val_loss: 0.6089 - val_accuracy: 0.0114\n",
            "Epoch 54/200\n",
            "9/9 [==============================] - 14s 2s/step - loss: 0.3221 - accuracy: 0.0241 - val_loss: 0.6105 - val_accuracy: 0.0114\n",
            "Epoch 55/200\n",
            "9/9 [==============================] - 14s 2s/step - loss: 0.3192 - accuracy: 0.0244 - val_loss: 0.6125 - val_accuracy: 0.0115\n",
            "Epoch 56/200\n",
            "9/9 [==============================] - 14s 2s/step - loss: 0.3167 - accuracy: 0.0247 - val_loss: 0.6140 - val_accuracy: 0.0117\n",
            "Epoch 57/200\n",
            "9/9 [==============================] - 14s 2s/step - loss: 0.3141 - accuracy: 0.0252 - val_loss: 0.6152 - val_accuracy: 0.0114\n",
            "Epoch 58/200\n",
            "9/9 [==============================] - 14s 2s/step - loss: 0.3115 - accuracy: 0.0255 - val_loss: 0.6171 - val_accuracy: 0.0115\n",
            "Epoch 59/200\n",
            "9/9 [==============================] - 14s 2s/step - loss: 0.3088 - accuracy: 0.0258 - val_loss: 0.6183 - val_accuracy: 0.0118\n",
            "Epoch 60/200\n",
            "9/9 [==============================] - 14s 2s/step - loss: 0.3063 - accuracy: 0.0262 - val_loss: 0.6195 - val_accuracy: 0.0116\n",
            "Epoch 61/200\n",
            "9/9 [==============================] - 14s 2s/step - loss: 0.3039 - accuracy: 0.0267 - val_loss: 0.6209 - val_accuracy: 0.0116\n",
            "Epoch 62/200\n",
            "9/9 [==============================] - 14s 2s/step - loss: 0.3015 - accuracy: 0.0270 - val_loss: 0.6223 - val_accuracy: 0.0117\n",
            "Epoch 63/200\n",
            "9/9 [==============================] - 14s 2s/step - loss: 0.2993 - accuracy: 0.0274 - val_loss: 0.6241 - val_accuracy: 0.0116\n",
            "Epoch 64/200\n",
            "9/9 [==============================] - 14s 2s/step - loss: 0.2969 - accuracy: 0.0276 - val_loss: 0.6247 - val_accuracy: 0.0113\n",
            "Epoch 65/200\n",
            "9/9 [==============================] - 14s 2s/step - loss: 0.2946 - accuracy: 0.0282 - val_loss: 0.6261 - val_accuracy: 0.0112\n",
            "Epoch 66/200\n",
            "9/9 [==============================] - 14s 2s/step - loss: 0.2924 - accuracy: 0.0284 - val_loss: 0.6276 - val_accuracy: 0.0113\n",
            "Epoch 67/200\n",
            "9/9 [==============================] - 14s 2s/step - loss: 0.2903 - accuracy: 0.0287 - val_loss: 0.6296 - val_accuracy: 0.0113\n",
            "Epoch 68/200\n",
            "9/9 [==============================] - 14s 2s/step - loss: 0.2881 - accuracy: 0.0291 - val_loss: 0.6308 - val_accuracy: 0.0113\n",
            "Epoch 69/200\n",
            "9/9 [==============================] - 14s 2s/step - loss: 0.2861 - accuracy: 0.0291 - val_loss: 0.6319 - val_accuracy: 0.0110\n",
            "Epoch 70/200\n",
            "9/9 [==============================] - 14s 2s/step - loss: 0.2842 - accuracy: 0.0297 - val_loss: 0.6338 - val_accuracy: 0.0113\n",
            "Epoch 71/200\n",
            "9/9 [==============================] - 14s 2s/step - loss: 0.2822 - accuracy: 0.0299 - val_loss: 0.6346 - val_accuracy: 0.0110\n",
            "Epoch 72/200\n",
            "9/9 [==============================] - 14s 2s/step - loss: 0.2803 - accuracy: 0.0301 - val_loss: 0.6361 - val_accuracy: 0.0113\n",
            "Epoch 73/200\n",
            "9/9 [==============================] - 14s 2s/step - loss: 0.2784 - accuracy: 0.0303 - val_loss: 0.6378 - val_accuracy: 0.0109\n",
            "Epoch 74/200\n",
            "9/9 [==============================] - 14s 2s/step - loss: 0.2766 - accuracy: 0.0307 - val_loss: 0.6391 - val_accuracy: 0.0109\n",
            "Epoch 75/200\n",
            "9/9 [==============================] - 14s 2s/step - loss: 0.2750 - accuracy: 0.0309 - val_loss: 0.6405 - val_accuracy: 0.0110\n",
            "Epoch 76/200\n",
            "9/9 [==============================] - 14s 2s/step - loss: 0.2733 - accuracy: 0.0311 - val_loss: 0.6417 - val_accuracy: 0.0108\n",
            "Epoch 77/200\n",
            "9/9 [==============================] - 14s 2s/step - loss: 0.2715 - accuracy: 0.0312 - val_loss: 0.6427 - val_accuracy: 0.0112\n",
            "Epoch 78/200\n",
            "9/9 [==============================] - 13s 1s/step - loss: 0.2697 - accuracy: 0.0315 - val_loss: 0.6438 - val_accuracy: 0.0110\n",
            "Epoch 79/200\n",
            "9/9 [==============================] - 14s 2s/step - loss: 0.2681 - accuracy: 0.0318 - val_loss: 0.6455 - val_accuracy: 0.0110\n",
            "Epoch 80/200\n",
            "9/9 [==============================] - 13s 1s/step - loss: 0.2665 - accuracy: 0.0320 - val_loss: 0.6466 - val_accuracy: 0.0106\n",
            "Epoch 81/200\n",
            "9/9 [==============================] - 14s 2s/step - loss: 0.2647 - accuracy: 0.0321 - val_loss: 0.6482 - val_accuracy: 0.0108\n",
            "Epoch 82/200\n",
            "9/9 [==============================] - 14s 2s/step - loss: 0.2632 - accuracy: 0.0323 - val_loss: 0.6490 - val_accuracy: 0.0108\n",
            "Epoch 83/200\n",
            "9/9 [==============================] - 14s 2s/step - loss: 0.2616 - accuracy: 0.0326 - val_loss: 0.6503 - val_accuracy: 0.0108\n",
            "Epoch 84/200\n",
            "9/9 [==============================] - 13s 1s/step - loss: 0.2602 - accuracy: 0.0328 - val_loss: 0.6516 - val_accuracy: 0.0107\n",
            "Epoch 85/200\n",
            "9/9 [==============================] - 14s 2s/step - loss: 0.2587 - accuracy: 0.0329 - val_loss: 0.6534 - val_accuracy: 0.0109\n",
            "Epoch 86/200\n",
            "9/9 [==============================] - 14s 2s/step - loss: 0.2573 - accuracy: 0.0330 - val_loss: 0.6541 - val_accuracy: 0.0106\n",
            "Epoch 87/200\n",
            "9/9 [==============================] - 14s 2s/step - loss: 0.2558 - accuracy: 0.0333 - val_loss: 0.6561 - val_accuracy: 0.0107\n",
            "Epoch 88/200\n",
            "9/9 [==============================] - 14s 2s/step - loss: 0.2545 - accuracy: 0.0333 - val_loss: 0.6572 - val_accuracy: 0.0107\n",
            "Epoch 89/200\n",
            "9/9 [==============================] - 13s 1s/step - loss: 0.2531 - accuracy: 0.0335 - val_loss: 0.6581 - val_accuracy: 0.0107\n",
            "Epoch 90/200\n",
            "9/9 [==============================] - 13s 1s/step - loss: 0.2519 - accuracy: 0.0338 - val_loss: 0.6595 - val_accuracy: 0.0107\n",
            "Epoch 91/200\n",
            "9/9 [==============================] - 13s 1s/step - loss: 0.2505 - accuracy: 0.0340 - val_loss: 0.6604 - val_accuracy: 0.0108\n",
            "Epoch 92/200\n",
            "9/9 [==============================] - 13s 1s/step - loss: 0.2493 - accuracy: 0.0341 - val_loss: 0.6621 - val_accuracy: 0.0107\n",
            "Epoch 93/200\n",
            "9/9 [==============================] - 13s 1s/step - loss: 0.2481 - accuracy: 0.0343 - val_loss: 0.6632 - val_accuracy: 0.0107\n",
            "Epoch 94/200\n",
            "9/9 [==============================] - 13s 1s/step - loss: 0.2469 - accuracy: 0.0344 - val_loss: 0.6647 - val_accuracy: 0.0105\n",
            "Epoch 95/200\n",
            "9/9 [==============================] - 13s 1s/step - loss: 0.2456 - accuracy: 0.0346 - val_loss: 0.6657 - val_accuracy: 0.0105\n",
            "Epoch 96/200\n",
            "9/9 [==============================] - 13s 1s/step - loss: 0.2444 - accuracy: 0.0349 - val_loss: 0.6669 - val_accuracy: 0.0106\n",
            "Epoch 97/200\n",
            "9/9 [==============================] - 13s 1s/step - loss: 0.2432 - accuracy: 0.0350 - val_loss: 0.6682 - val_accuracy: 0.0106\n",
            "Epoch 98/200\n",
            "9/9 [==============================] - 13s 1s/step - loss: 0.2419 - accuracy: 0.0351 - val_loss: 0.6689 - val_accuracy: 0.0106\n",
            "Epoch 99/200\n",
            "9/9 [==============================] - 14s 2s/step - loss: 0.2407 - accuracy: 0.0354 - val_loss: 0.6706 - val_accuracy: 0.0107\n",
            "Epoch 100/200\n",
            "9/9 [==============================] - 14s 2s/step - loss: 0.2397 - accuracy: 0.0355 - val_loss: 0.6714 - val_accuracy: 0.0104\n",
            "Epoch 101/200\n",
            "9/9 [==============================] - 14s 2s/step - loss: 0.2387 - accuracy: 0.0357 - val_loss: 0.6726 - val_accuracy: 0.0105\n",
            "Epoch 102/200\n",
            "9/9 [==============================] - 13s 1s/step - loss: 0.2375 - accuracy: 0.0356 - val_loss: 0.6737 - val_accuracy: 0.0103\n",
            "Epoch 103/200\n",
            "9/9 [==============================] - 13s 1s/step - loss: 0.2364 - accuracy: 0.0358 - val_loss: 0.6737 - val_accuracy: 0.0106\n",
            "Epoch 104/200\n",
            "9/9 [==============================] - 13s 1s/step - loss: 0.2354 - accuracy: 0.0361 - val_loss: 0.6763 - val_accuracy: 0.0103\n",
            "Epoch 105/200\n",
            "9/9 [==============================] - 13s 1s/step - loss: 0.2342 - accuracy: 0.0362 - val_loss: 0.6766 - val_accuracy: 0.0103\n",
            "Epoch 106/200\n",
            "9/9 [==============================] - 14s 2s/step - loss: 0.2330 - accuracy: 0.0367 - val_loss: 0.6769 - val_accuracy: 0.0103\n",
            "Epoch 107/200\n",
            "9/9 [==============================] - 14s 2s/step - loss: 0.2321 - accuracy: 0.0365 - val_loss: 0.6788 - val_accuracy: 0.0103\n",
            "Epoch 108/200\n",
            "9/9 [==============================] - 14s 2s/step - loss: 0.2312 - accuracy: 0.0367 - val_loss: 0.6791 - val_accuracy: 0.0102\n",
            "Epoch 109/200\n",
            "9/9 [==============================] - 14s 2s/step - loss: 0.2302 - accuracy: 0.0367 - val_loss: 0.6801 - val_accuracy: 0.0101\n",
            "Epoch 110/200\n",
            "9/9 [==============================] - 14s 2s/step - loss: 0.2294 - accuracy: 0.0368 - val_loss: 0.6806 - val_accuracy: 0.0102\n",
            "Epoch 111/200\n",
            "9/9 [==============================] - 14s 2s/step - loss: 0.2284 - accuracy: 0.0370 - val_loss: 0.6826 - val_accuracy: 0.0101\n",
            "Epoch 112/200\n",
            "9/9 [==============================] - 14s 2s/step - loss: 0.2277 - accuracy: 0.0370 - val_loss: 0.6832 - val_accuracy: 0.0099\n",
            "Epoch 113/200\n",
            "9/9 [==============================] - 14s 2s/step - loss: 0.2267 - accuracy: 0.0373 - val_loss: 0.6840 - val_accuracy: 0.0102\n",
            "Epoch 114/200\n",
            "9/9 [==============================] - 14s 2s/step - loss: 0.2258 - accuracy: 0.0374 - val_loss: 0.6853 - val_accuracy: 0.0099\n",
            "Epoch 115/200\n",
            "9/9 [==============================] - 14s 2s/step - loss: 0.2246 - accuracy: 0.0375 - val_loss: 0.6859 - val_accuracy: 0.0100\n",
            "Epoch 116/200\n",
            "9/9 [==============================] - 14s 2s/step - loss: 0.2236 - accuracy: 0.0376 - val_loss: 0.6872 - val_accuracy: 0.0100\n",
            "Epoch 117/200\n",
            "9/9 [==============================] - 14s 2s/step - loss: 0.2226 - accuracy: 0.0377 - val_loss: 0.6878 - val_accuracy: 0.0099\n",
            "Epoch 118/200\n",
            "9/9 [==============================] - 14s 2s/step - loss: 0.2217 - accuracy: 0.0381 - val_loss: 0.6891 - val_accuracy: 0.0099\n",
            "Epoch 119/200\n",
            "9/9 [==============================] - 14s 2s/step - loss: 0.2211 - accuracy: 0.0380 - val_loss: 0.6902 - val_accuracy: 0.0100\n",
            "Epoch 120/200\n",
            "9/9 [==============================] - 14s 2s/step - loss: 0.2203 - accuracy: 0.0380 - val_loss: 0.6909 - val_accuracy: 0.0099\n",
            "Epoch 121/200\n",
            "9/9 [==============================] - 14s 2s/step - loss: 0.2193 - accuracy: 0.0383 - val_loss: 0.6912 - val_accuracy: 0.0100\n",
            "Epoch 122/200\n",
            "9/9 [==============================] - 14s 2s/step - loss: 0.2184 - accuracy: 0.0384 - val_loss: 0.6921 - val_accuracy: 0.0100\n",
            "Epoch 123/200\n",
            "9/9 [==============================] - 14s 2s/step - loss: 0.2175 - accuracy: 0.0386 - val_loss: 0.6948 - val_accuracy: 0.0099\n",
            "Epoch 124/200\n",
            "9/9 [==============================] - 14s 2s/step - loss: 0.2166 - accuracy: 0.0388 - val_loss: 0.6947 - val_accuracy: 0.0099\n",
            "Epoch 125/200\n",
            "9/9 [==============================] - 14s 2s/step - loss: 0.2155 - accuracy: 0.0391 - val_loss: 0.6956 - val_accuracy: 0.0100\n",
            "Epoch 126/200\n",
            "9/9 [==============================] - 14s 2s/step - loss: 0.2147 - accuracy: 0.0392 - val_loss: 0.6970 - val_accuracy: 0.0099\n",
            "Epoch 127/200\n",
            "9/9 [==============================] - 14s 2s/step - loss: 0.2140 - accuracy: 0.0392 - val_loss: 0.6984 - val_accuracy: 0.0099\n",
            "Epoch 128/200\n",
            "9/9 [==============================] - 14s 2s/step - loss: 0.2133 - accuracy: 0.0392 - val_loss: 0.6988 - val_accuracy: 0.0099\n",
            "Epoch 129/200\n",
            "9/9 [==============================] - 14s 2s/step - loss: 0.2124 - accuracy: 0.0395 - val_loss: 0.6996 - val_accuracy: 0.0097\n",
            "Epoch 130/200\n",
            "9/9 [==============================] - 14s 2s/step - loss: 0.2117 - accuracy: 0.0396 - val_loss: 0.7004 - val_accuracy: 0.0099\n",
            "Epoch 131/200\n",
            "9/9 [==============================] - 14s 2s/step - loss: 0.2111 - accuracy: 0.0395 - val_loss: 0.7017 - val_accuracy: 0.0099\n",
            "Epoch 132/200\n",
            "9/9 [==============================] - 14s 2s/step - loss: 0.2103 - accuracy: 0.0397 - val_loss: 0.7027 - val_accuracy: 0.0097\n",
            "Epoch 133/200\n",
            "9/9 [==============================] - 14s 2s/step - loss: 0.2093 - accuracy: 0.0399 - val_loss: 0.7027 - val_accuracy: 0.0098\n",
            "Epoch 134/200\n",
            "9/9 [==============================] - 14s 2s/step - loss: 0.2088 - accuracy: 0.0399 - val_loss: 0.7039 - val_accuracy: 0.0098\n",
            "Epoch 135/200\n",
            "9/9 [==============================] - 14s 2s/step - loss: 0.2080 - accuracy: 0.0402 - val_loss: 0.7047 - val_accuracy: 0.0098\n",
            "Epoch 136/200\n",
            "9/9 [==============================] - 14s 2s/step - loss: 0.2071 - accuracy: 0.0403 - val_loss: 0.7056 - val_accuracy: 0.0098\n",
            "Epoch 137/200\n",
            "9/9 [==============================] - 14s 2s/step - loss: 0.2065 - accuracy: 0.0404 - val_loss: 0.7069 - val_accuracy: 0.0099\n",
            "Epoch 138/200\n",
            "9/9 [==============================] - 14s 2s/step - loss: 0.2057 - accuracy: 0.0407 - val_loss: 0.7075 - val_accuracy: 0.0095\n",
            "Epoch 139/200\n",
            "9/9 [==============================] - 14s 2s/step - loss: 0.2050 - accuracy: 0.0407 - val_loss: 0.7076 - val_accuracy: 0.0097\n",
            "Epoch 140/200\n",
            "9/9 [==============================] - 14s 2s/step - loss: 0.2043 - accuracy: 0.0410 - val_loss: 0.7092 - val_accuracy: 0.0097\n",
            "Epoch 141/200\n",
            "9/9 [==============================] - 14s 2s/step - loss: 0.2036 - accuracy: 0.0408 - val_loss: 0.7088 - val_accuracy: 0.0097\n",
            "Epoch 142/200\n",
            "9/9 [==============================] - 13s 1s/step - loss: 0.2029 - accuracy: 0.0408 - val_loss: 0.7105 - val_accuracy: 0.0098\n",
            "Epoch 143/200\n",
            "9/9 [==============================] - 14s 2s/step - loss: 0.2020 - accuracy: 0.0412 - val_loss: 0.7119 - val_accuracy: 0.0096\n",
            "Epoch 144/200\n",
            "9/9 [==============================] - 13s 1s/step - loss: 0.2011 - accuracy: 0.0411 - val_loss: 0.7120 - val_accuracy: 0.0099\n",
            "Epoch 145/200\n",
            "9/9 [==============================] - 13s 1s/step - loss: 0.2008 - accuracy: 0.0414 - val_loss: 0.7135 - val_accuracy: 0.0098\n",
            "Epoch 146/200\n",
            "9/9 [==============================] - 13s 1s/step - loss: 0.2001 - accuracy: 0.0417 - val_loss: 0.7136 - val_accuracy: 0.0097\n",
            "Epoch 147/200\n",
            "9/9 [==============================] - 13s 1s/step - loss: 0.1994 - accuracy: 0.0417 - val_loss: 0.7162 - val_accuracy: 0.0095\n",
            "Epoch 148/200\n",
            "9/9 [==============================] - 13s 1s/step - loss: 0.1988 - accuracy: 0.0418 - val_loss: 0.7160 - val_accuracy: 0.0096\n",
            "Epoch 149/200\n",
            "9/9 [==============================] - 13s 1s/step - loss: 0.1981 - accuracy: 0.0418 - val_loss: 0.7155 - val_accuracy: 0.0098\n",
            "Epoch 150/200\n",
            "9/9 [==============================] - 14s 2s/step - loss: 0.1974 - accuracy: 0.0417 - val_loss: 0.7174 - val_accuracy: 0.0100\n",
            "Epoch 151/200\n",
            "9/9 [==============================] - 14s 2s/step - loss: 0.1968 - accuracy: 0.0420 - val_loss: 0.7178 - val_accuracy: 0.0098\n",
            "Epoch 152/200\n",
            "9/9 [==============================] - 13s 1s/step - loss: 0.1962 - accuracy: 0.0422 - val_loss: 0.7185 - val_accuracy: 0.0098\n",
            "Epoch 153/200\n",
            "9/9 [==============================] - 13s 1s/step - loss: 0.1954 - accuracy: 0.0424 - val_loss: 0.7195 - val_accuracy: 0.0098\n",
            "Epoch 154/200\n",
            "9/9 [==============================] - 13s 1s/step - loss: 0.1946 - accuracy: 0.0426 - val_loss: 0.7209 - val_accuracy: 0.0098\n",
            "Epoch 155/200\n",
            "9/9 [==============================] - 14s 2s/step - loss: 0.1940 - accuracy: 0.0426 - val_loss: 0.7210 - val_accuracy: 0.0097\n",
            "Epoch 156/200\n",
            "9/9 [==============================] - 14s 2s/step - loss: 0.1934 - accuracy: 0.0427 - val_loss: 0.7217 - val_accuracy: 0.0095\n",
            "Epoch 157/200\n",
            "9/9 [==============================] - 14s 2s/step - loss: 0.1929 - accuracy: 0.0426 - val_loss: 0.7226 - val_accuracy: 0.0098\n",
            "Epoch 158/200\n",
            "9/9 [==============================] - 14s 2s/step - loss: 0.1925 - accuracy: 0.0428 - val_loss: 0.7218 - val_accuracy: 0.0097\n",
            "Epoch 159/200\n",
            "9/9 [==============================] - 14s 2s/step - loss: 0.1920 - accuracy: 0.0427 - val_loss: 0.7231 - val_accuracy: 0.0098\n",
            "Epoch 160/200\n",
            "9/9 [==============================] - 14s 2s/step - loss: 0.1912 - accuracy: 0.0429 - val_loss: 0.7239 - val_accuracy: 0.0097\n",
            "Epoch 161/200\n",
            "9/9 [==============================] - 13s 1s/step - loss: 0.1903 - accuracy: 0.0433 - val_loss: 0.7259 - val_accuracy: 0.0095\n",
            "Epoch 162/200\n",
            "9/9 [==============================] - 14s 2s/step - loss: 0.1896 - accuracy: 0.0435 - val_loss: 0.7248 - val_accuracy: 0.0097\n",
            "Epoch 163/200\n",
            "9/9 [==============================] - 13s 1s/step - loss: 0.1890 - accuracy: 0.0435 - val_loss: 0.7268 - val_accuracy: 0.0095\n",
            "Epoch 164/200\n",
            "9/9 [==============================] - 14s 2s/step - loss: 0.1884 - accuracy: 0.0435 - val_loss: 0.7276 - val_accuracy: 0.0094\n",
            "Epoch 165/200\n",
            "9/9 [==============================] - 14s 2s/step - loss: 0.1877 - accuracy: 0.0436 - val_loss: 0.7287 - val_accuracy: 0.0096\n",
            "Epoch 166/200\n",
            "9/9 [==============================] - 13s 1s/step - loss: 0.1870 - accuracy: 0.0438 - val_loss: 0.7294 - val_accuracy: 0.0099\n",
            "Epoch 167/200\n",
            "9/9 [==============================] - 13s 1s/step - loss: 0.1865 - accuracy: 0.0440 - val_loss: 0.7294 - val_accuracy: 0.0098\n",
            "Epoch 168/200\n",
            "9/9 [==============================] - 13s 1s/step - loss: 0.1859 - accuracy: 0.0440 - val_loss: 0.7311 - val_accuracy: 0.0096\n",
            "Epoch 169/200\n",
            "9/9 [==============================] - 13s 1s/step - loss: 0.1853 - accuracy: 0.0442 - val_loss: 0.7308 - val_accuracy: 0.0097\n",
            "Epoch 170/200\n",
            "9/9 [==============================] - 14s 2s/step - loss: 0.1849 - accuracy: 0.0442 - val_loss: 0.7328 - val_accuracy: 0.0097\n",
            "Epoch 171/200\n",
            "9/9 [==============================] - 13s 1s/step - loss: 0.1850 - accuracy: 0.0442 - val_loss: 0.7323 - val_accuracy: 0.0097\n",
            "Epoch 172/200\n",
            "9/9 [==============================] - 14s 2s/step - loss: 0.1846 - accuracy: 0.0442 - val_loss: 0.7347 - val_accuracy: 0.0098\n",
            "Epoch 173/200\n",
            "9/9 [==============================] - 14s 2s/step - loss: 0.1836 - accuracy: 0.0443 - val_loss: 0.7351 - val_accuracy: 0.0095\n",
            "Epoch 174/200\n",
            "9/9 [==============================] - 14s 2s/step - loss: 0.1830 - accuracy: 0.0446 - val_loss: 0.7373 - val_accuracy: 0.0094\n",
            "Epoch 175/200\n",
            "9/9 [==============================] - 14s 2s/step - loss: 0.1825 - accuracy: 0.0443 - val_loss: 0.7373 - val_accuracy: 0.0094\n",
            "Epoch 176/200\n",
            "9/9 [==============================] - 14s 2s/step - loss: 0.1817 - accuracy: 0.0448 - val_loss: 0.7389 - val_accuracy: 0.0094\n",
            "Epoch 177/200\n",
            "9/9 [==============================] - 14s 2s/step - loss: 0.1811 - accuracy: 0.0448 - val_loss: 0.7387 - val_accuracy: 0.0095\n",
            "Epoch 178/200\n",
            "9/9 [==============================] - 14s 2s/step - loss: 0.1805 - accuracy: 0.0451 - val_loss: 0.7399 - val_accuracy: 0.0093\n",
            "Epoch 179/200\n",
            "9/9 [==============================] - 14s 2s/step - loss: 0.1799 - accuracy: 0.0450 - val_loss: 0.7402 - val_accuracy: 0.0095\n",
            "Epoch 180/200\n",
            "9/9 [==============================] - 14s 2s/step - loss: 0.1794 - accuracy: 0.0451 - val_loss: 0.7419 - val_accuracy: 0.0095\n",
            "Epoch 181/200\n",
            "9/9 [==============================] - 14s 2s/step - loss: 0.1787 - accuracy: 0.0451 - val_loss: 0.7422 - val_accuracy: 0.0097\n",
            "Epoch 182/200\n",
            "9/9 [==============================] - 14s 2s/step - loss: 0.1780 - accuracy: 0.0455 - val_loss: 0.7428 - val_accuracy: 0.0093\n",
            "Epoch 183/200\n",
            "9/9 [==============================] - 13s 1s/step - loss: 0.1776 - accuracy: 0.0455 - val_loss: 0.7441 - val_accuracy: 0.0094\n",
            "Epoch 184/200\n",
            "9/9 [==============================] - 14s 2s/step - loss: 0.1771 - accuracy: 0.0454 - val_loss: 0.7453 - val_accuracy: 0.0095\n",
            "Epoch 185/200\n",
            "9/9 [==============================] - 14s 2s/step - loss: 0.1767 - accuracy: 0.0455 - val_loss: 0.7455 - val_accuracy: 0.0094\n",
            "Epoch 186/200\n",
            "9/9 [==============================] - 14s 2s/step - loss: 0.1762 - accuracy: 0.0456 - val_loss: 0.7461 - val_accuracy: 0.0095\n",
            "Epoch 187/200\n",
            "9/9 [==============================] - 14s 2s/step - loss: 0.1758 - accuracy: 0.0457 - val_loss: 0.7485 - val_accuracy: 0.0094\n",
            "Epoch 188/200\n",
            "9/9 [==============================] - 13s 1s/step - loss: 0.1751 - accuracy: 0.0458 - val_loss: 0.7485 - val_accuracy: 0.0094\n",
            "Epoch 189/200\n",
            "9/9 [==============================] - 14s 2s/step - loss: 0.1746 - accuracy: 0.0461 - val_loss: 0.7496 - val_accuracy: 0.0093\n",
            "Epoch 190/200\n",
            "9/9 [==============================] - 14s 2s/step - loss: 0.1744 - accuracy: 0.0461 - val_loss: 0.7509 - val_accuracy: 0.0093\n",
            "Epoch 191/200\n",
            "9/9 [==============================] - 14s 2s/step - loss: 0.1739 - accuracy: 0.0460 - val_loss: 0.7517 - val_accuracy: 0.0092\n",
            "Epoch 192/200\n",
            "9/9 [==============================] - 14s 2s/step - loss: 0.1736 - accuracy: 0.0462 - val_loss: 0.7530 - val_accuracy: 0.0091\n",
            "Epoch 193/200\n",
            "9/9 [==============================] - 14s 2s/step - loss: 0.1733 - accuracy: 0.0462 - val_loss: 0.7531 - val_accuracy: 0.0091\n",
            "Epoch 194/200\n",
            "9/9 [==============================] - 14s 2s/step - loss: 0.1729 - accuracy: 0.0461 - val_loss: 0.7540 - val_accuracy: 0.0090\n",
            "Epoch 195/200\n",
            "9/9 [==============================] - 14s 2s/step - loss: 0.1728 - accuracy: 0.0461 - val_loss: 0.7533 - val_accuracy: 0.0092\n",
            "Epoch 196/200\n",
            "9/9 [==============================] - 14s 2s/step - loss: 0.1721 - accuracy: 0.0463 - val_loss: 0.7546 - val_accuracy: 0.0093\n",
            "Epoch 197/200\n",
            "9/9 [==============================] - 14s 2s/step - loss: 0.1714 - accuracy: 0.0465 - val_loss: 0.7554 - val_accuracy: 0.0094\n",
            "Epoch 198/200\n",
            "9/9 [==============================] - 14s 2s/step - loss: 0.1709 - accuracy: 0.0468 - val_loss: 0.7558 - val_accuracy: 0.0091\n",
            "Epoch 199/200\n",
            "9/9 [==============================] - 14s 2s/step - loss: 0.1702 - accuracy: 0.0469 - val_loss: 0.7572 - val_accuracy: 0.0094\n",
            "Epoch 200/200\n",
            "9/9 [==============================] - 14s 2s/step - loss: 0.1698 - accuracy: 0.0469 - val_loss: 0.7578 - val_accuracy: 0.0093\n"
          ],
          "name": "stdout"
        }
      ]
    },
    {
      "cell_type": "code",
      "metadata": {
        "id": "Vcd4wZNKdhu_",
        "colab": {
          "base_uri": "https://localhost:8080/",
          "height": 265
        },
        "outputId": "ee2031a6-6466-4077-d4d0-0ca0a2a79fcd"
      },
      "source": [
        "plt.plot(r.history['loss'], label='loss')\n",
        "plt.plot(r.history['val_loss'], label='val_loss')\n",
        "plt.legend()\n",
        "plt.show()"
      ],
      "execution_count": 26,
      "outputs": [
        {
          "output_type": "display_data",
          "data": {
            "image/png": "[encoded data removed]",
            "text/plain": [
              "<Figure size 432x288 with 1 Axes>"
            ]
          },
          "metadata": {
            "tags": [],
            "needs_background": "light"
          }
        }
      ]
    },
    {
      "cell_type": "code",
      "metadata": {
        "id": "66raqKmhgq9l",
        "colab": {
          "base_uri": "https://localhost:8080/",
          "height": 265
        },
        "outputId": "1aba4cc2-2939-4a77-b46a-f6e31529ca8f"
      },
      "source": [
        "plt.plot(r.history['accuracy'], label='acc')\n",
        "plt.plot(r.history['val_accuracy'], label='val_acc')\n",
        "plt.legend()\n",
        "plt.show()"
      ],
      "execution_count": 27,
      "outputs": [
        {
          "output_type": "display_data",
          "data": {
            "image/png": "[encoded data removed]",
            "text/plain": [
              "<Figure size 432x288 with 1 Axes>"
            ]
          },
          "metadata": {
            "tags": [],
            "needs_background": "light"
          }
        }
      ]
    },
    {
      "cell_type": "code",
      "metadata": {
        "id": "p8uNO__-hMST"
      },
      "source": [
        "input2=Input(shape=(1,))\n",
        "x=embedding_layer(input2)\n",
        "x, h, c=lstm(x, initial_state=[initial_h,initial_c])\n",
        "output2=dense(x)\n",
        "sampling_model = Model([input2, initial_h, initial_c], [output2, h, c])"
      ],
      "execution_count": 28,
      "outputs": []
    },
    {
      "cell_type": "code",
      "metadata": {
        "id": "NwBlBAHIiC_L"
      },
      "source": [
        "idx2word = {v:k for k, v in word2idx.items()}"
      ],
      "execution_count": 29,
      "outputs": []
    },
    {
      "cell_type": "code",
      "metadata": {
        "id": "w3TTyI0GDeyi"
      },
      "source": [
        "def sample_line():\n",
        "  np_input = np.array([[ word2idx['<sos>'] ]])\n",
        "  h = np.zeros((1, LATENT_DIM))\n",
        "  c = np.zeros((1, LATENT_DIM))\n",
        "  eos = word2idx['<eos>']\n",
        "  output_sentence = []\n",
        "\n",
        "  for _ in range(max_sequence_length):\n",
        "    o, h, c = sampling_model.predict([np_input, h, c])\n",
        "    probs = o[0,0]\n",
        "    if np.argmax(probs) == 0:\n",
        "      print(\"wtf\")\n",
        "    probs[0] = 0\n",
        "    probs /= probs.sum()\n",
        "    idx = np.random.choice(len(probs), p=probs)\n",
        "    if idx == eos:\n",
        "      break\n",
        "    output_sentence.append(idx2word.get(idx, '<WTF %s>' % idx))\n",
        "    np_input[0,0] = idx\n",
        "\n",
        "  return ' '.join(output_sentence)"
      ],
      "execution_count": 30,
      "outputs": []
    },
    {
      "cell_type": "code",
      "metadata": {
        "id": "Zaww52QSPO7U",
        "colab": {
          "base_uri": "https://localhost:8080/"
        },
        "outputId": "21912d1b-dcf9-4616-d08e-2cfb9f513adb"
      },
      "source": [
        "while True:\n",
        "  for _ in range(4):\n",
        "    print(sample_line())\n",
        "\n",
        "  ans = input(\"generate another? [Y/n]\")\n",
        "  if ans and ans[0].lower().startswith('n'):\n",
        "    break"
      ],
      "execution_count": 31,
      "outputs": [
        {
          "output_type": "stream",
          "text": [
            "of wire with furs to repented, but\n",
            "to stop without a farm\n",
            "over the january thaw\n",
            "we ought and leaf, for those to the house,\n",
            "generate another? [Y/n]n\n"
          ],
          "name": "stdout"
        }
      ]
    },
    {
      "cell_type": "code",
      "metadata": {
        "id": "MKpzwla98knM"
      },
      "source": [
        ""
      ],
      "execution_count": null,
      "outputs": []
    }
  ]
}