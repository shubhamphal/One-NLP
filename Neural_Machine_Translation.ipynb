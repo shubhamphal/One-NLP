{
  "nbformat": 4,
  "nbformat_minor": 0,
  "metadata": {
    "colab": {
      "name": "Neural Machine Translation.ipynb",
      "provenance": [],
      "authorship_tag": "ABX9TyPHcXPZHDDwSbp2I+oS9AXB",
      "include_colab_link": true
    },
    "kernelspec": {
      "name": "python3",
      "display_name": "Python 3"
    }
  },
  "cells": [
    {
      "cell_type": "markdown",
      "metadata": {
        "id": "view-in-github",
        "colab_type": "text"
      },
      "source": [
        "<a href=\"https://colab.research.google.com/github/shubhamphal/One-NLP/blob/master/Neural_Machine_Translation.ipynb\" target=\"_parent\"><img src=\"https://colab.research.google.com/assets/colab-badge.svg\" alt=\"Open In Colab\"/></a>"
      ]
    },
    {
      "cell_type": "markdown",
      "metadata": {
        "id": "7cjbvo6AB-S7"
      },
      "source": [
        "Bilingual Sentence Pairs in other languages can be obtained from http://www.manythings.org/anki/"
      ]
    },
    {
      "cell_type": "code",
      "metadata": {
        "id": "iDmgdLZN_ybX"
      },
      "source": [
        "import os, sys"
      ],
      "execution_count": 2,
      "outputs": []
    },
    {
      "cell_type": "code",
      "metadata": {
        "id": "Zrl38aWMC3n1"
      },
      "source": [
        "from keras.models import Model\n",
        "from keras.layers import Input, LSTM, GRU, Dense, Embedding\n",
        "from keras.preprocessing.text import Tokenizer\n",
        "from keras.preprocessing.sequence import pad_sequences\n",
        "from keras.utils import to_categorical\n",
        "import numpy as np\n",
        "import matplotlib.pyplot as plt"
      ],
      "execution_count": 3,
      "outputs": []
    },
    {
      "cell_type": "code",
      "metadata": {
        "id": "_-k3hFv0C-Dj"
      },
      "source": [
        "from __future__ import print_function, division\n",
        "from builtins import range, input"
      ],
      "execution_count": 4,
      "outputs": []
    },
    {
      "cell_type": "code",
      "metadata": {
        "id": "iZekYhfMDB47"
      },
      "source": [
        "try:\n",
        "  import keras.backend as K\n",
        "  if len(K.tensorflow_backend._get_available_gpus()) > 0:\n",
        "    from keras.layers import CuDNNLSTM as LSTM\n",
        "    from keras.layers import CuDNNGRU as GRU\n",
        "except:\n",
        "  pass"
      ],
      "execution_count": 5,
      "outputs": []
    },
    {
      "cell_type": "code",
      "metadata": {
        "colab": {
          "base_uri": "https://localhost:8080/"
        },
        "id": "ihfUxTAfFQS_",
        "outputId": "c6d1ed3c-dc28-4f1f-8fb6-7936585c30e9"
      },
      "source": [
        "!wget nlp.stanford.edu/data/glove.6B.zip"
      ],
      "execution_count": 18,
      "outputs": [
        {
          "output_type": "stream",
          "text": [
            "--2020-12-02 20:11:54--  http://nlp.stanford.edu/data/glove.6B.zip\n",
            "Resolving nlp.stanford.edu (nlp.stanford.edu)... 171.64.67.140\n",
            "Connecting to nlp.stanford.edu (nlp.stanford.edu)|171.64.67.140|:80... connected.\n",
            "HTTP request sent, awaiting response... 302 Found\n",
            "Location: https://nlp.stanford.edu/data/glove.6B.zip [following]\n",
            "--2020-12-02 20:11:54--  https://nlp.stanford.edu/data/glove.6B.zip\n",
            "Connecting to nlp.stanford.edu (nlp.stanford.edu)|171.64.67.140|:443... connected.\n",
            "HTTP request sent, awaiting response... 301 Moved Permanently\n",
            "Location: http://downloads.cs.stanford.edu/nlp/data/glove.6B.zip [following]\n",
            "--2020-12-02 20:11:54--  http://downloads.cs.stanford.edu/nlp/data/glove.6B.zip\n",
            "Resolving downloads.cs.stanford.edu (downloads.cs.stanford.edu)... 171.64.64.22\n",
            "Connecting to downloads.cs.stanford.edu (downloads.cs.stanford.edu)|171.64.64.22|:80... connected.\n",
            "HTTP request sent, awaiting response... 200 OK\n",
            "Length: 862182613 (822M) [application/zip]\n",
            "Saving to: ‘glove.6B.zip’\n",
            "\n",
            "glove.6B.zip        100%[===================>] 822.24M  1.99MB/s    in 6m 29s  \n",
            "\n",
            "2020-12-02 20:18:24 (2.11 MB/s) - ‘glove.6B.zip’ saved [862182613/862182613]\n",
            "\n"
          ],
          "name": "stdout"
        }
      ]
    },
    {
      "cell_type": "code",
      "metadata": {
        "colab": {
          "base_uri": "https://localhost:8080/"
        },
        "id": "xzOZnW2BFUWP",
        "outputId": "588f3275-0f21-4bd8-a68e-7e1ef322344b"
      },
      "source": [
        "!unzip glove.6B.zip"
      ],
      "execution_count": 20,
      "outputs": [
        {
          "output_type": "stream",
          "text": [
            "Archive:  glove.6B.zip\n",
            "  inflating: glove.6B.50d.txt        \n",
            "  inflating: glove.6B.100d.txt       \n",
            "  inflating: glove.6B.200d.txt       \n",
            "  inflating: glove.6B.300d.txt       \n"
          ],
          "name": "stdout"
        }
      ]
    },
    {
      "cell_type": "code",
      "metadata": {
        "id": "jQpB6_n7DFT7"
      },
      "source": [
        "BATCH_SIZE = 64  \n",
        "EPOCHS = 40\n",
        "LATENT_DIM = 256\n",
        "NUM_SAMPLES = 10000\n",
        "MAX_NUM_WORDS = 20000\n",
        "EMBEDDING_DIM = 100"
      ],
      "execution_count": 6,
      "outputs": []
    },
    {
      "cell_type": "code",
      "metadata": {
        "colab": {
          "base_uri": "https://localhost:8080/"
        },
        "id": "r0VN4HTlDOjL",
        "outputId": "2b37689f-cf19-49af-85b0-183d4915dbbe"
      },
      "source": [
        "input_texts = []\n",
        "target_texts = []\n",
        "target_texts_inputs = []\n",
        "\n",
        "t = 0\n",
        "for line in open('hin.txt'):\n",
        "  t += 1\n",
        "  if t > NUM_SAMPLES:\n",
        "    break\n",
        "  if '\\t' not in line:\n",
        "    continue\n",
        "  input_text, translation, *rest = line.rstrip().split('\\t')\n",
        "  target_text = translation + ' <eos>'\n",
        "  target_text_input = '<sos> ' + translation\n",
        "  input_texts.append(input_text)\n",
        "  target_texts.append(target_text)\n",
        "  target_texts_inputs.append(target_text_input)\n",
        "print(\"num samples:\", len(input_texts))"
      ],
      "execution_count": 8,
      "outputs": [
        {
          "output_type": "stream",
          "text": [
            "num samples: 2923\n"
          ],
          "name": "stdout"
        }
      ]
    },
    {
      "cell_type": "code",
      "metadata": {
        "id": "5QKONf5SDkDb"
      },
      "source": [
        "tokenizer_inputs = Tokenizer(num_words=MAX_NUM_WORDS)\n",
        "tokenizer_inputs.fit_on_texts(input_texts)\n",
        "input_sequences = tokenizer_inputs.texts_to_sequences(input_texts)"
      ],
      "execution_count": 9,
      "outputs": []
    },
    {
      "cell_type": "code",
      "metadata": {
        "colab": {
          "base_uri": "https://localhost:8080/"
        },
        "id": "VNatZXrDEgkF",
        "outputId": "65d9c060-e000-4d5e-8dcf-d113c3b30a3a"
      },
      "source": [
        "word2idx_inputs = tokenizer_inputs.word_index\n",
        "print('Found %s unique input tokens.' % len(word2idx_inputs))"
      ],
      "execution_count": 10,
      "outputs": [
        {
          "output_type": "stream",
          "text": [
            "Found 2423 unique input tokens.\n"
          ],
          "name": "stdout"
        }
      ]
    },
    {
      "cell_type": "code",
      "metadata": {
        "id": "M2JK04_4Ein7"
      },
      "source": [
        "max_len_input = max(len(s) for s in input_sequences)"
      ],
      "execution_count": 11,
      "outputs": []
    },
    {
      "cell_type": "code",
      "metadata": {
        "id": "fPS0wu-yEloa"
      },
      "source": [
        "tokenizer_outputs = Tokenizer(num_words=MAX_NUM_WORDS, filters='')\n",
        "tokenizer_outputs.fit_on_texts(target_texts + target_texts_inputs)\n",
        "target_sequences = tokenizer_outputs.texts_to_sequences(target_texts)\n",
        "target_sequences_inputs = tokenizer_outputs.texts_to_sequences(target_texts_inputs)"
      ],
      "execution_count": 12,
      "outputs": []
    },
    {
      "cell_type": "code",
      "metadata": {
        "colab": {
          "base_uri": "https://localhost:8080/"
        },
        "id": "fkGBrxPNEsEb",
        "outputId": "38664473-288c-440e-d699-047b0d70d940"
      },
      "source": [
        "word2idx_outputs = tokenizer_outputs.word_index\n",
        "print('Found %s unique output tokens.' % len(word2idx_outputs))"
      ],
      "execution_count": 13,
      "outputs": [
        {
          "output_type": "stream",
          "text": [
            "Found 3197 unique output tokens.\n"
          ],
          "name": "stdout"
        }
      ]
    },
    {
      "cell_type": "code",
      "metadata": {
        "id": "m-r4GMBgE4lj"
      },
      "source": [
        "num_words_output = len(word2idx_outputs) + 1"
      ],
      "execution_count": 14,
      "outputs": []
    },
    {
      "cell_type": "code",
      "metadata": {
        "id": "SPY5WIBcE8HD"
      },
      "source": [
        "max_len_target = max(len(s) for s in target_sequences)"
      ],
      "execution_count": 15,
      "outputs": []
    },
    {
      "cell_type": "code",
      "metadata": {
        "colab": {
          "base_uri": "https://localhost:8080/"
        },
        "id": "-ihjG2qJE907",
        "outputId": "ebfa1f55-a5f9-41ce-85c3-2bd8b17a0430"
      },
      "source": [
        "encoder_inputs = pad_sequences(input_sequences, maxlen=max_len_input)\n",
        "print(\"encoder_inputs.shape:\", encoder_inputs.shape)\n",
        "print(\"encoder_inputs[0]:\", encoder_inputs[0])\n",
        "\n",
        "decoder_inputs = pad_sequences(target_sequences_inputs, maxlen=max_len_target, padding='post')\n",
        "print(\"decoder_inputs[0]:\", decoder_inputs[0])\n",
        "print(\"decoder_inputs.shape:\", decoder_inputs.shape)\n",
        "\n",
        "decoder_targets = pad_sequences(target_sequences, maxlen=max_len_target, padding='post')"
      ],
      "execution_count": 19,
      "outputs": [
        {
          "output_type": "stream",
          "text": [
            "encoder_inputs.shape: (2923, 22)\n",
            "encoder_inputs[0]: [   0    0    0    0    0    0    0    0    0    0    0    0    0    0\n",
            "    0    0    0    0    0    0    0 1302]\n",
            "decoder_inputs[0]: [   2 1518    0    0    0    0    0    0    0    0    0    0    0    0\n",
            "    0    0    0    0    0    0    0    0    0    0    0    0]\n",
            "decoder_inputs.shape: (2923, 26)\n"
          ],
          "name": "stdout"
        }
      ]
    },
    {
      "cell_type": "code",
      "metadata": {
        "id": "LHqXLVfOFY_x"
      },
      "source": [
        "f=open(os.path.join('.','glove.6B.%sd.txt'%EMBEDDING_DIM))"
      ],
      "execution_count": 21,
      "outputs": []
    },
    {
      "cell_type": "code",
      "metadata": {
        "colab": {
          "base_uri": "https://localhost:8080/"
        },
        "id": "3wI1OoObE_z7",
        "outputId": "3f511795-d591-4623-effc-d31e016d1a21"
      },
      "source": [
        "print('Loading word vectors...')\n",
        "word2vec = {}\n",
        "for line in f:\n",
        "  values = line.split()\n",
        "  word = values[0]\n",
        "  vec = np.asarray(values[1:], dtype='float32')\n",
        "  word2vec[word] = vec\n",
        "print('Found %s word vectors.' % len(word2vec))"
      ],
      "execution_count": 22,
      "outputs": [
        {
          "output_type": "stream",
          "text": [
            "Loading word vectors...\n",
            "Found 400000 word vectors.\n"
          ],
          "name": "stdout"
        }
      ]
    },
    {
      "cell_type": "code",
      "metadata": {
        "colab": {
          "base_uri": "https://localhost:8080/"
        },
        "id": "5FnHxx-sFEcT",
        "outputId": "454129e0-26ec-42e7-b113-5f847ef7bd4b"
      },
      "source": [
        "print('Filling pre-trained embeddings...')\n",
        "num_words = min(MAX_NUM_WORDS, len(word2idx_inputs) + 1)\n",
        "embedding_matrix = np.zeros((num_words, EMBEDDING_DIM))\n",
        "for word, i in word2idx_inputs.items():\n",
        "  if i < MAX_NUM_WORDS:\n",
        "    embedding_vector = word2vec.get(word)\n",
        "    if embedding_vector is not None:\n",
        "      embedding_matrix[i] = embedding_vector"
      ],
      "execution_count": 23,
      "outputs": [
        {
          "output_type": "stream",
          "text": [
            "Filling pre-trained embeddings...\n"
          ],
          "name": "stdout"
        }
      ]
    },
    {
      "cell_type": "code",
      "metadata": {
        "id": "stSoZ4CbHM18"
      },
      "source": [
        "embedding_layer = Embedding(\n",
        "  num_words,\n",
        "  EMBEDDING_DIM,\n",
        "  weights=[embedding_matrix],\n",
        "  input_length=max_len_input,\n",
        "  # trainable=True\n",
        ")"
      ],
      "execution_count": 24,
      "outputs": []
    },
    {
      "cell_type": "code",
      "metadata": {
        "id": "9A20nwosHv7i"
      },
      "source": [
        "decoder_targets_one_hot = np.zeros(\n",
        "  (\n",
        "    len(input_texts),\n",
        "    max_len_target,\n",
        "    num_words_output\n",
        "  ),\n",
        "  dtype='float32'\n",
        ")"
      ],
      "execution_count": 25,
      "outputs": []
    },
    {
      "cell_type": "code",
      "metadata": {
        "id": "wioI6OvgIaFL"
      },
      "source": [
        "for i, d in enumerate(decoder_targets):\n",
        "  for t, word in enumerate(d):\n",
        "    if word != 0:\n",
        "      decoder_targets_one_hot[i, t, word] = 1"
      ],
      "execution_count": 26,
      "outputs": []
    },
    {
      "cell_type": "code",
      "metadata": {
        "id": "RVJ_yLOKRR--"
      },
      "source": [
        "encoder_inputs_placeholder = Input(shape=(max_len_input,))\n",
        "x = embedding_layer(encoder_inputs_placeholder)\n",
        "encoder = LSTM(\n",
        "  LATENT_DIM,\n",
        "  return_state=True,\n",
        ")"
      ],
      "execution_count": 27,
      "outputs": []
    },
    {
      "cell_type": "code",
      "metadata": {
        "id": "JcV2qV4bRVyz"
      },
      "source": [
        "encoder_outputs, h, c = encoder(x)\n",
        "encoder_states = [h, c]\n",
        "decoder_inputs_placeholder = Input(shape=(max_len_target,))\n",
        "decoder_embedding = Embedding(num_words_output, EMBEDDING_DIM)\n",
        "decoder_inputs_x = decoder_embedding(decoder_inputs_placeholder)"
      ],
      "execution_count": 31,
      "outputs": []
    },
    {
      "cell_type": "code",
      "metadata": {
        "id": "klMzdR0QRYDW"
      },
      "source": [
        "decoder_lstm = LSTM(\n",
        "  LATENT_DIM,\n",
        "  return_sequences=True,\n",
        "  return_state=True,\n",
        ")"
      ],
      "execution_count": 32,
      "outputs": []
    },
    {
      "cell_type": "code",
      "metadata": {
        "id": "O2mLOOVHRjTi"
      },
      "source": [
        "decoder_outputs, _, _ = decoder_lstm(\n",
        "  decoder_inputs_x,\n",
        "  initial_state=encoder_states\n",
        ")"
      ],
      "execution_count": 33,
      "outputs": []
    },
    {
      "cell_type": "code",
      "metadata": {
        "id": "YnLIF-zsRmjj"
      },
      "source": [
        "decoder_dense = Dense(num_words_output, activation='softmax')\n",
        "decoder_outputs = decoder_dense(decoder_outputs)"
      ],
      "execution_count": 34,
      "outputs": []
    },
    {
      "cell_type": "code",
      "metadata": {
        "id": "Ai_J546LRp9D"
      },
      "source": [
        "model = Model([encoder_inputs_placeholder, decoder_inputs_placeholder], decoder_outputs)"
      ],
      "execution_count": 35,
      "outputs": []
    },
    {
      "cell_type": "code",
      "metadata": {
        "id": "98IEXVofRsHz"
      },
      "source": [
        "def custom_loss(y_true, y_pred):\n",
        "  mask = K.cast(y_true > 0, dtype='float32')\n",
        "  out = mask * y_true * K.log(y_pred)\n",
        "  return -K.sum(out) / K.sum(mask)\n"
      ],
      "execution_count": 36,
      "outputs": []
    },
    {
      "cell_type": "code",
      "metadata": {
        "id": "8rBBmfWFRuh7"
      },
      "source": [
        "def acc(y_true, y_pred):\n",
        "  targ = K.argmax(y_true, axis=-1)\n",
        "  pred = K.argmax(y_pred, axis=-1)\n",
        "  correct = K.cast(K.equal(targ, pred), dtype='float32')\n",
        "  mask = K.cast(K.greater(targ, 0), dtype='float32')\n",
        "  n_correct = K.sum(mask * correct)\n",
        "  n_total = K.sum(mask)\n",
        "  return n_correct / n_total"
      ],
      "execution_count": 38,
      "outputs": []
    },
    {
      "cell_type": "code",
      "metadata": {
        "id": "8KVQtcitRwxL"
      },
      "source": [
        "model.compile(optimizer='adam', loss=custom_loss, metrics=[acc])"
      ],
      "execution_count": 39,
      "outputs": []
    },
    {
      "cell_type": "code",
      "metadata": {
        "colab": {
          "base_uri": "https://localhost:8080/"
        },
        "id": "1mjXzPkiR4I7",
        "outputId": "fe7aa56f-ddeb-4e62-dca9-9efe988a5be1"
      },
      "source": [
        "r = model.fit(\n",
        "  [encoder_inputs, decoder_inputs], decoder_targets_one_hot,\n",
        "  batch_size=BATCH_SIZE,\n",
        "  epochs=EPOCHS,\n",
        "  validation_split=0.2,\n",
        ")"
      ],
      "execution_count": 40,
      "outputs": [
        {
          "output_type": "stream",
          "text": [
            "Epoch 1/40\n",
            "37/37 [==============================] - 25s 682ms/step - loss: 6.5080 - acc: 0.1397 - val_loss: 6.5695 - val_acc: 0.0975\n",
            "Epoch 2/40\n",
            "37/37 [==============================] - 22s 606ms/step - loss: 5.6502 - acc: 0.1587 - val_loss: 6.4354 - val_acc: 0.1009\n",
            "Epoch 3/40\n",
            "37/37 [==============================] - 23s 610ms/step - loss: 5.4073 - acc: 0.1637 - val_loss: 6.2646 - val_acc: 0.1044\n",
            "Epoch 4/40\n",
            "37/37 [==============================] - 23s 612ms/step - loss: 5.2085 - acc: 0.1708 - val_loss: 6.1767 - val_acc: 0.1139\n",
            "Epoch 5/40\n",
            "37/37 [==============================] - 22s 601ms/step - loss: 5.0700 - acc: 0.1819 - val_loss: 6.1883 - val_acc: 0.1162\n",
            "Epoch 6/40\n",
            "37/37 [==============================] - 24s 650ms/step - loss: 4.9531 - acc: 0.1952 - val_loss: 6.1488 - val_acc: 0.1260\n",
            "Epoch 7/40\n",
            "37/37 [==============================] - 22s 599ms/step - loss: 4.8360 - acc: 0.2082 - val_loss: 6.1330 - val_acc: 0.1250\n",
            "Epoch 8/40\n",
            "37/37 [==============================] - 22s 596ms/step - loss: 4.7192 - acc: 0.2188 - val_loss: 6.1211 - val_acc: 0.1282\n",
            "Epoch 9/40\n",
            "37/37 [==============================] - 22s 597ms/step - loss: 4.6009 - acc: 0.2278 - val_loss: 6.0968 - val_acc: 0.1362\n",
            "Epoch 10/40\n",
            "37/37 [==============================] - 22s 601ms/step - loss: 4.4865 - acc: 0.2367 - val_loss: 6.0950 - val_acc: 0.1393\n",
            "Epoch 11/40\n",
            "37/37 [==============================] - 22s 594ms/step - loss: 4.3682 - acc: 0.2427 - val_loss: 6.0812 - val_acc: 0.1416\n",
            "Epoch 12/40\n",
            "37/37 [==============================] - 22s 592ms/step - loss: 4.2499 - acc: 0.2517 - val_loss: 6.0448 - val_acc: 0.1471\n",
            "Epoch 13/40\n",
            "37/37 [==============================] - 22s 592ms/step - loss: 4.1271 - acc: 0.2649 - val_loss: 6.0717 - val_acc: 0.1471\n",
            "Epoch 14/40\n",
            "37/37 [==============================] - 23s 613ms/step - loss: 4.0060 - acc: 0.2763 - val_loss: 6.0379 - val_acc: 0.1492\n",
            "Epoch 15/40\n",
            "37/37 [==============================] - 22s 599ms/step - loss: 3.8839 - acc: 0.2915 - val_loss: 6.0482 - val_acc: 0.1544\n",
            "Epoch 16/40\n",
            "37/37 [==============================] - 22s 592ms/step - loss: 3.7604 - acc: 0.3049 - val_loss: 6.0684 - val_acc: 0.1525\n",
            "Epoch 17/40\n",
            "37/37 [==============================] - 22s 588ms/step - loss: 3.6419 - acc: 0.3158 - val_loss: 6.0595 - val_acc: 0.1529\n",
            "Epoch 18/40\n",
            "37/37 [==============================] - 22s 586ms/step - loss: 3.5265 - acc: 0.3312 - val_loss: 6.0881 - val_acc: 0.1597\n",
            "Epoch 19/40\n",
            "37/37 [==============================] - 22s 585ms/step - loss: 3.4107 - acc: 0.3427 - val_loss: 6.0692 - val_acc: 0.1614\n",
            "Epoch 20/40\n",
            "37/37 [==============================] - 22s 594ms/step - loss: 3.2944 - acc: 0.3591 - val_loss: 6.1240 - val_acc: 0.1639\n",
            "Epoch 21/40\n",
            "37/37 [==============================] - 22s 594ms/step - loss: 3.1786 - acc: 0.3757 - val_loss: 6.0865 - val_acc: 0.1652\n",
            "Epoch 22/40\n",
            "37/37 [==============================] - 22s 598ms/step - loss: 3.0697 - acc: 0.3894 - val_loss: 6.1000 - val_acc: 0.1725\n",
            "Epoch 23/40\n",
            "37/37 [==============================] - 22s 592ms/step - loss: 2.9627 - acc: 0.4045 - val_loss: 6.1346 - val_acc: 0.1671\n",
            "Epoch 24/40\n",
            "37/37 [==============================] - 22s 592ms/step - loss: 2.8500 - acc: 0.4221 - val_loss: 6.1703 - val_acc: 0.1706\n",
            "Epoch 25/40\n",
            "37/37 [==============================] - 22s 601ms/step - loss: 2.7450 - acc: 0.4349 - val_loss: 6.1995 - val_acc: 0.1725\n",
            "Epoch 26/40\n",
            "37/37 [==============================] - 22s 604ms/step - loss: 2.6394 - acc: 0.4530 - val_loss: 6.2263 - val_acc: 0.1730\n",
            "Epoch 27/40\n",
            "37/37 [==============================] - 22s 603ms/step - loss: 2.5389 - acc: 0.4697 - val_loss: 6.2366 - val_acc: 0.1729\n",
            "Epoch 28/40\n",
            "37/37 [==============================] - 24s 642ms/step - loss: 2.4363 - acc: 0.4882 - val_loss: 6.2809 - val_acc: 0.1718\n",
            "Epoch 29/40\n",
            "37/37 [==============================] - 22s 601ms/step - loss: 2.3349 - acc: 0.5088 - val_loss: 6.3259 - val_acc: 0.1768\n",
            "Epoch 30/40\n",
            "37/37 [==============================] - 22s 604ms/step - loss: 2.2390 - acc: 0.5301 - val_loss: 6.3311 - val_acc: 0.1772\n",
            "Epoch 31/40\n",
            "37/37 [==============================] - 22s 604ms/step - loss: 2.1452 - acc: 0.5504 - val_loss: 6.3589 - val_acc: 0.1790\n",
            "Epoch 32/40\n",
            "37/37 [==============================] - 22s 606ms/step - loss: 2.0463 - acc: 0.5719 - val_loss: 6.4261 - val_acc: 0.1760\n",
            "Epoch 33/40\n",
            "37/37 [==============================] - 22s 602ms/step - loss: 1.9623 - acc: 0.5929 - val_loss: 6.4726 - val_acc: 0.1756\n",
            "Epoch 34/40\n",
            "37/37 [==============================] - 22s 603ms/step - loss: 1.8739 - acc: 0.6163 - val_loss: 6.4920 - val_acc: 0.1764\n",
            "Epoch 35/40\n",
            "37/37 [==============================] - 22s 604ms/step - loss: 1.7869 - acc: 0.6377 - val_loss: 6.5215 - val_acc: 0.1732\n",
            "Epoch 36/40\n",
            "37/37 [==============================] - 22s 581ms/step - loss: 1.6993 - acc: 0.6618 - val_loss: 6.5373 - val_acc: 0.1748\n",
            "Epoch 37/40\n",
            "37/37 [==============================] - 22s 587ms/step - loss: 1.6202 - acc: 0.6775 - val_loss: 6.6085 - val_acc: 0.1782\n",
            "Epoch 38/40\n",
            "37/37 [==============================] - 22s 593ms/step - loss: 1.5438 - acc: 0.6960 - val_loss: 6.6354 - val_acc: 0.1763\n",
            "Epoch 39/40\n",
            "37/37 [==============================] - 22s 587ms/step - loss: 1.4633 - acc: 0.7143 - val_loss: 6.6498 - val_acc: 0.1747\n",
            "Epoch 40/40\n",
            "37/37 [==============================] - 22s 590ms/step - loss: 1.3940 - acc: 0.7328 - val_loss: 6.6971 - val_acc: 0.1754\n"
          ],
          "name": "stdout"
        }
      ]
    },
    {
      "cell_type": "code",
      "metadata": {
        "colab": {
          "base_uri": "https://localhost:8080/",
          "height": 265
        },
        "id": "IOuYGjniR6oz",
        "outputId": "6e3d522e-71fc-48af-9d57-d616727be2f3"
      },
      "source": [
        "plt.plot(r.history['loss'], label='loss')\n",
        "plt.plot(r.history['val_loss'], label='val_loss')\n",
        "plt.legend()\n",
        "plt.show()"
      ],
      "execution_count": 45,
      "outputs": [
        {
          "output_type": "display_data",
          "data": {
            "image/png": "[encoded data removed]",
            "text/plain": [
              "<Figure size 432x288 with 1 Axes>"
            ]
          },
          "metadata": {
            "tags": [],
            "needs_background": "light"
          }
        }
      ]
    },
    {
      "cell_type": "code",
      "metadata": {
        "id": "_Dsx41OsR_ro"
      },
      "source": [
        "model.save('s2s.h5')"
      ],
      "execution_count": 47,
      "outputs": []
    },
    {
      "cell_type": "code",
      "metadata": {
        "id": "DIWMZMlzSvRZ"
      },
      "source": [
        "encoder_model = Model(encoder_inputs_placeholder, encoder_states)\n",
        "decoder_state_input_h = Input(shape=(LATENT_DIM,))\n",
        "decoder_state_input_c = Input(shape=(LATENT_DIM,))\n",
        "decoder_states_inputs = [decoder_state_input_h, decoder_state_input_c]\n",
        "decoder_inputs_single = Input(shape=(1,))\n",
        "decoder_inputs_single_x = decoder_embedding(decoder_inputs_single)\n",
        "decoder_outputs, h, c = decoder_lstm(\n",
        "  decoder_inputs_single_x,\n",
        "  initial_state=decoder_states_inputs\n",
        ")\n",
        "decoder_states = [h, c]\n",
        "decoder_outputs = decoder_dense(decoder_outputs)"
      ],
      "execution_count": 48,
      "outputs": []
    },
    {
      "cell_type": "code",
      "metadata": {
        "id": "11frnAvEWR1M"
      },
      "source": [
        "decoder_model = Model(\n",
        "  [decoder_inputs_single] + decoder_states_inputs, \n",
        "  [decoder_outputs] + decoder_states\n",
        ")"
      ],
      "execution_count": 49,
      "outputs": []
    },
    {
      "cell_type": "code",
      "metadata": {
        "id": "LUsIP6ELWTxT"
      },
      "source": [
        "idx2word_eng = {v:k for k, v in word2idx_inputs.items()}\n",
        "idx2word_trans = {v:k for k, v in word2idx_outputs.items()}"
      ],
      "execution_count": 50,
      "outputs": []
    },
    {
      "cell_type": "code",
      "metadata": {
        "id": "d4sWgp2tWVlr"
      },
      "source": [
        "def decode_sequence(input_seq):\n",
        "  states_value = encoder_model.predict(input_seq)\n",
        "  target_seq = np.zeros((1, 1))\n",
        "  target_seq[0, 0] = word2idx_outputs['<sos>']\n",
        "  eos = word2idx_outputs['<eos>']\n",
        "  output_sentence = []\n",
        "  \n",
        "  for _ in range(max_len_target):\n",
        "    output_tokens, h, c = decoder_model.predict(\n",
        "      [target_seq] + states_value\n",
        "    )\n",
        "\n",
        "    idx = np.argmax(output_tokens[0, 0, :])\n",
        "\n",
        "    if eos == idx:\n",
        "      break\n",
        "\n",
        "    word = ''\n",
        "    \n",
        "    if idx > 0:\n",
        "      word = idx2word_trans[idx]\n",
        "      output_sentence.append(word)\n",
        "    \n",
        "    target_seq[0, 0] = idx\n",
        "    states_value = [h, c]\n",
        "\n",
        "  return ' '.join(output_sentence)"
      ],
      "execution_count": 51,
      "outputs": []
    },
    {
      "cell_type": "code",
      "metadata": {
        "colab": {
          "base_uri": "https://localhost:8080/"
        },
        "id": "RQPQMCVDWqsb",
        "outputId": "cf866fd0-c9d5-4d48-de82-c601b67b0782"
      },
      "source": [
        "while True:\n",
        "  i = np.random.choice(len(input_texts))\n",
        "  input_seq = encoder_inputs[i:i+1]\n",
        "  translation = decode_sequence(input_seq)\n",
        "  print('-')\n",
        "  print('Input:', input_texts[i])\n",
        "  print('Translation:', translation)\n",
        "\n",
        "  ans = input(\"Continue? [Y/n]\")\n",
        "  if ans and ans.lower().startswith('n'):\n",
        "    break\n"
      ],
      "execution_count": 52,
      "outputs": [
        {
          "output_type": "stream",
          "text": [
            "-\n",
            "Input: He began to shout.\n",
            "Translation: वह चिल्लाने लगा।\n",
            "Continue? [Y/n]Y\n",
            "-\n",
            "Input: India has a different climate from England.\n",
            "Translation: भारत में बहुत उगाई जाती है।\n",
            "Continue? [Y/n]Y\n",
            "-\n",
            "Input: Let him in.\n",
            "Translation: उसे अंदर भेजो।\n",
            "Continue? [Y/n]Y\n",
            "-\n",
            "Input: She is as beautiful as her mother.\n",
            "Translation: वह अपनी माँ को सुंदर है।\n",
            "Continue? [Y/n]n\n"
          ],
          "name": "stdout"
        }
      ]
    },
    {
      "cell_type": "code",
      "metadata": {
        "id": "RoDp9TG7Wv6j"
      },
      "source": [
        ""
      ],
      "execution_count": null,
      "outputs": []
    }
  ]
}