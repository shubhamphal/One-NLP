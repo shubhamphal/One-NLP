{
  "nbformat": 4,
  "nbformat_minor": 0,
  "metadata": {
    "colab": {
      "name": "ChatBot with Memory Networks.ipynb",
      "provenance": [],
      "authorship_tag": "ABX9TyOpnclK7j2hBnrKwxtd6cK0",
      "include_colab_link": true
    },
    "kernelspec": {
      "name": "python3",
      "display_name": "Python 3"
    },
    "accelerator": "GPU"
  },
  "cells": [
    {
      "cell_type": "markdown",
      "metadata": {
        "id": "view-in-github",
        "colab_type": "text"
      },
      "source": [
        "<a href=\"https://colab.research.google.com/github/shubhamphal/One-NLP/blob/master/ChatBot_with_Memory_Networks.ipynb\" target=\"_parent\"><img src=\"https://colab.research.google.com/assets/colab-badge.svg\" alt=\"Open In Colab\"/></a>"
      ]
    },
    {
      "cell_type": "markdown",
      "metadata": {
        "id": "o5yOe0N_R__b"
      },
      "source": [
        "**Single Supporting Fact**"
      ]
    },
    {
      "cell_type": "code",
      "metadata": {
        "id": "5KS0hb6MPzJI"
      },
      "source": [
        "from __future__ import print_function, division\r\n",
        "from builtins import range, input\r\n",
        "\r\n",
        "\r\n",
        "import numpy as np\r\n",
        "import keras.backend as K\r\n",
        "import matplotlib.pyplot as plt\r\n",
        "import re\r\n",
        "import tarfile\r\n",
        "\r\n",
        "from keras.models import Model\r\n",
        "from keras.layers import Dense, Embedding, Input, Lambda, Reshape, add, dot, Activation\r\n",
        "from keras.preprocessing.sequence import pad_sequences\r\n",
        "from keras.optimizers import Adam, RMSprop\r\n",
        "from keras.utils.data_utils import get_file\r\n"
      ],
      "execution_count": 1,
      "outputs": []
    },
    {
      "cell_type": "code",
      "metadata": {
        "id": "cxbnnjwvRbXx"
      },
      "source": [
        "path = get_file(\r\n",
        "  'babi-tasks-v1-2.tar.gz', \r\n",
        "  origin='https://s3.amazonaws.com/text-datasets/babi_tasks_1-20_v1-2.tar.gz')\r\n",
        "tar = tarfile.open(path)"
      ],
      "execution_count": 14,
      "outputs": []
    },
    {
      "cell_type": "code",
      "metadata": {
        "id": "ney4jrQySMqy"
      },
      "source": [
        "challenges = {\r\n",
        "  # QA1 with 10,000 samples\r\n",
        "  'single_supporting_fact_10k': 'tasks_1-20_v1-2/en-10k/qa1_single-supporting-fact_{}.txt',\r\n",
        "  # QA2 with 10,000 samples\r\n",
        "  'two_supporting_facts_10k': 'tasks_1-20_v1-2/en-10k/qa2_two-supporting-facts_{}.txt',\r\n",
        "}"
      ],
      "execution_count": 15,
      "outputs": []
    },
    {
      "cell_type": "code",
      "metadata": {
        "id": "cMpryqunSOmo"
      },
      "source": [
        "def tokenize(sent):\r\n",
        "  '''Return the tokens of a sentence including punctuation.\r\n",
        "  >>> tokenize('Bob dropped the apple. Where is the apple?')\r\n",
        "  ['Bob', 'dropped', 'the', 'apple', '.', 'Where', 'is', 'the', 'apple', '?']\r\n",
        "  '''\r\n",
        "  return [x.strip() for x in re.split('(\\W+?)', sent) if x.strip()]\r\n"
      ],
      "execution_count": 16,
      "outputs": []
    },
    {
      "cell_type": "code",
      "metadata": {
        "id": "x6xra9u3STXo"
      },
      "source": [
        "def get_stories(f):\r\n",
        "  # data will return a list of triples\r\n",
        "  # each triple contains:\r\n",
        "  #   1. a story\r\n",
        "  #   2. a question about the story\r\n",
        "  #   3. the answer to the question\r\n",
        "  data = []\r\n",
        "\r\n",
        "  # use this list to keep track of the story so far\r\n",
        "  story = []\r\n",
        "\r\n",
        "  # print a random story, helpful to see the data\r\n",
        "  printed = False\r\n",
        "  for line in f:\r\n",
        "    line = line.decode('utf-8').strip()\r\n",
        "\r\n",
        "    # split the line number from the rest of the line\r\n",
        "    nid, line = line.split(' ', 1)\r\n",
        "\r\n",
        "    # see if we should begin a new story\r\n",
        "    if int(nid) == 1:\r\n",
        "      story = []\r\n",
        "\r\n",
        "    # this line contains a question and answer if it has a tab\r\n",
        "    #       question<TAB>answer\r\n",
        "    # it also tells us which line in the story is relevant to the answer\r\n",
        "    # Note: we actually ignore this fact, since the model will learn\r\n",
        "    #       which lines are important\r\n",
        "    # Note: the max line number is not the number of lines of the story\r\n",
        "    #       since lines with questions do not contain any story\r\n",
        "    # one story may contain MULTIPLE questions\r\n",
        "    if '\\t' in line:\r\n",
        "      q, a, supporting = line.split('\\t')\r\n",
        "      q = tokenize(q)\r\n",
        "\r\n",
        "      # numbering each line is very useful\r\n",
        "      # it's the equivalent of adding a unique token to the front\r\n",
        "      # of each sentence\r\n",
        "      story_so_far = [[str(i)] + s for i, s in enumerate(story) if s]\r\n",
        "\r\n",
        "      # uncomment if you want to see what a story looks like\r\n",
        "      # if not printed and np.random.rand() < 0.5:\r\n",
        "      #     print(\"story_so_far:\", story_so_far)\r\n",
        "      #     printed = True\r\n",
        "      data.append((story_so_far, q, a))\r\n",
        "      story.append('')\r\n",
        "    else:\r\n",
        "      # just add the line to the current story\r\n",
        "      story.append(tokenize(line))\r\n",
        "  return data\r\n"
      ],
      "execution_count": 17,
      "outputs": []
    },
    {
      "cell_type": "code",
      "metadata": {
        "id": "dJpyDNYwSWQA"
      },
      "source": [
        "def should_flatten(el): \r\n",
        "  return not isinstance(el, (str, bytes))\r\n",
        "\r\n",
        "def flatten(l):\r\n",
        "  for el in l:\r\n",
        "    if should_flatten(el):\r\n",
        "      yield from flatten(el)\r\n",
        "    else:\r\n",
        "      yield el"
      ],
      "execution_count": 18,
      "outputs": []
    },
    {
      "cell_type": "code",
      "metadata": {
        "id": "97gAEjQ5SYXA"
      },
      "source": [
        "def vectorize_stories(data, word2idx, story_maxlen, query_maxlen):\r\n",
        "  inputs, queries, answers = [], [], []\r\n",
        "  for story, query, answer in data:\r\n",
        "    inputs.append([[word2idx[w] for w in s] for s in story])\r\n",
        "    queries.append([word2idx[w] for w in query])\r\n",
        "    answers.append([word2idx[answer]])\r\n",
        "  return (\r\n",
        "    [pad_sequences(x, maxlen=story_maxlen) for x in inputs],\r\n",
        "    pad_sequences(queries, maxlen=query_maxlen),\r\n",
        "    np.array(answers)\r\n",
        "  )"
      ],
      "execution_count": 19,
      "outputs": []
    },
    {
      "cell_type": "code",
      "metadata": {
        "id": "65bV5f1aSaQI"
      },
      "source": [
        "def stack_inputs(inputs, story_maxsents, story_maxlen):\r\n",
        "  for i, story in enumerate(inputs):\r\n",
        "    inputs[i] = np.concatenate(\r\n",
        "      [\r\n",
        "        story, \r\n",
        "        np.zeros((story_maxsents - story.shape[0], story_maxlen), 'int')\r\n",
        "      ]\r\n",
        "    )\r\n",
        "  return np.stack(inputs)"
      ],
      "execution_count": 20,
      "outputs": []
    },
    {
      "cell_type": "code",
      "metadata": {
        "id": "upB977U6ScGo"
      },
      "source": [
        "def get_data(challenge_type):\r\n",
        "  # input should either be 'single_supporting_fact_10k' or 'two_supporting_facts_10k'\r\n",
        "  challenge = challenges[challenge_type]\r\n",
        "\r\n",
        "\r\n",
        "  # returns a list of triples of:\r\n",
        "  # (story, question, answer)\r\n",
        "  # story is a list of sentences\r\n",
        "  # question is a sentence\r\n",
        "  # answer is a word\r\n",
        "  train_stories = get_stories(tar.extractfile(challenge.format('train')))\r\n",
        "  test_stories = get_stories(tar.extractfile(challenge.format('test')))\r\n",
        "\r\n",
        "\r\n",
        "  # group all the stories together\r\n",
        "  stories = train_stories + test_stories\r\n",
        "\r\n",
        "  # so we can get the max length of each story, of each sentence, and of each question\r\n",
        "  story_maxlen = max((len(s) for x, _, _ in stories for s in x))\r\n",
        "  story_maxsents = max((len(x) for x, _, _ in stories))\r\n",
        "  query_maxlen = max(len(x) for _, x, _ in stories)\r\n",
        "\r\n",
        "  # Create vocabulary of corpus and find size, including a padding element.\r\n",
        "  vocab = sorted(set(flatten(stories)))\r\n",
        "  vocab.insert(0, '<PAD>')\r\n",
        "  vocab_size = len(vocab)\r\n",
        "\r\n",
        "  # Create an index mapping for the vocabulary.\r\n",
        "  word2idx = {c:i for i, c in enumerate(vocab)}\r\n",
        "\r\n",
        "  # convert stories from strings to lists of integers\r\n",
        "  inputs_train, queries_train, answers_train = vectorize_stories(\r\n",
        "    train_stories, \r\n",
        "    word2idx,\r\n",
        "    story_maxlen,\r\n",
        "    query_maxlen\r\n",
        "  )\r\n",
        "  inputs_test, queries_test, answers_test = vectorize_stories(\r\n",
        "    test_stories, \r\n",
        "    word2idx,\r\n",
        "    story_maxlen,\r\n",
        "    query_maxlen\r\n",
        "  )\r\n",
        "\r\n",
        "  # convert inputs into 3-D numpy arrays\r\n",
        "  inputs_train = stack_inputs(inputs_train, story_maxsents, story_maxlen)\r\n",
        "  inputs_test = stack_inputs(inputs_test, story_maxsents, story_maxlen)\r\n",
        "  print(\"inputs_train.shape, inputs_test.shape\", inputs_train.shape, inputs_test.shape)\r\n",
        "\r\n",
        "\r\n",
        "  # return model inputs for keras\r\n",
        "  return train_stories, test_stories, \\\r\n",
        "    inputs_train, queries_train, answers_train, \\\r\n",
        "    inputs_test, queries_test, answers_test, \\\r\n",
        "    story_maxsents, story_maxlen, query_maxlen, \\\r\n",
        "    vocab, vocab_size"
      ],
      "execution_count": 21,
      "outputs": []
    },
    {
      "cell_type": "code",
      "metadata": {
        "colab": {
          "base_uri": "https://localhost:8080/"
        },
        "id": "0yN3GCKvSgGw",
        "outputId": "84b53d10-8aa5-4cef-ca8c-712c03d14563"
      },
      "source": [
        "train_stories, test_stories, \\\r\n",
        "  inputs_train, queries_train, answers_train, \\\r\n",
        "  inputs_test, queries_test, answers_test, \\\r\n",
        "  story_maxsents, story_maxlen, query_maxlen, \\\r\n",
        "  vocab, vocab_size = get_data('single_supporting_fact_10k')\r\n",
        "\r\n",
        "\r\n",
        "\r\n",
        "\r\n",
        "##### create the model #####\r\n",
        "embedding_dim = 15\r\n",
        "\r\n",
        "\r\n",
        "# turn the story into a sequence of embedding vectors\r\n",
        "# one for each story line\r\n",
        "# treating each story line like a \"bag of words\"\r\n",
        "input_story_ = Input((story_maxsents, story_maxlen))\r\n",
        "embedded_story = Embedding(vocab_size, embedding_dim)(input_story_)\r\n",
        "embedded_story = Lambda(lambda x: K.sum(x, axis=2))(embedded_story)\r\n",
        "print(\"input_story_.shape, embedded_story.shape:\", input_story_.shape, embedded_story.shape)\r\n",
        "\r\n",
        "\r\n",
        "# turn the question into an embedding\r\n",
        "# also a bag of words\r\n",
        "input_question_ = Input((query_maxlen,))\r\n",
        "embedded_question = Embedding(vocab_size, embedding_dim)(input_question_)\r\n",
        "embedded_question = Lambda(lambda x: K.sum(x, axis=1))(embedded_question)\r\n",
        "\r\n",
        "# add a \"sequence length\" of 1 so that it can\r\n",
        "# be dotted with the story later\r\n",
        "embedded_question = Reshape((1, embedding_dim))(embedded_question)\r\n",
        "print(\"inp_q.shape, emb_q.shape:\", input_question_.shape, embedded_question.shape)\r\n",
        "\r\n",
        "\r\n",
        "# calculate the weights for each story line\r\n",
        "# embedded_story.shape        = (N, num sentences, embedding_dim)\r\n",
        "# embedded_question.shape     = (N, 1, embedding_dim)\r\n",
        "x = dot([embedded_story, embedded_question], 2)\r\n",
        "x = Reshape((story_maxsents,))(x) # flatten the vector\r\n",
        "x = Activation('softmax')(x)\r\n",
        "story_weights = Reshape((story_maxsents, 1))(x) # unflatten it again to be dotted later\r\n",
        "print(\"story_weights.shape:\", story_weights.shape)\r\n",
        "\r\n",
        "\r\n",
        "\r\n",
        "x = dot([story_weights, embedded_story], 1)\r\n",
        "x = Reshape((embedding_dim,))(x) # flatten it again\r\n",
        "ans = Dense(vocab_size, activation='softmax')(x)\r\n",
        "\r\n",
        "# make the model\r\n",
        "model = Model([input_story_, input_question_], ans)\r\n",
        "\r\n",
        "# compile the model\r\n",
        "model.compile(\r\n",
        "  optimizer=RMSprop(lr=1e-2),\r\n",
        "  loss='sparse_categorical_crossentropy',\r\n",
        "  metrics=['accuracy']\r\n",
        ")\r\n",
        "\r\n",
        "# train the model\r\n",
        "r = model.fit(\r\n",
        "  [inputs_train, queries_train],\r\n",
        "  answers_train,\r\n",
        "  epochs=4,\r\n",
        "  batch_size=32,\r\n",
        "  validation_data=([inputs_test, queries_test], answers_test)\r\n",
        ")\r\n",
        "\r\n"
      ],
      "execution_count": 22,
      "outputs": [
        {
          "output_type": "stream",
          "text": [
            "inputs_train.shape, inputs_test.shape (10000, 10, 8) (1000, 10, 8)\n",
            "input_story_.shape, embedded_story.shape: (None, 10, 8) (None, 10, 15)\n",
            "inp_q.shape, emb_q.shape: (None, 4) (None, 1, 15)\n",
            "story_weights.shape: (None, 10, 1)\n",
            "Epoch 1/4\n",
            "313/313 [==============================] - 1s 3ms/step - loss: 0.8345 - accuracy: 0.6967 - val_loss: 0.0212 - val_accuracy: 0.9950\n",
            "Epoch 2/4\n",
            "313/313 [==============================] - 1s 3ms/step - loss: 0.0148 - accuracy: 0.9953 - val_loss: 7.5702e-04 - val_accuracy: 1.0000\n",
            "Epoch 3/4\n",
            "313/313 [==============================] - 1s 3ms/step - loss: 0.0037 - accuracy: 0.9988 - val_loss: 7.9822e-06 - val_accuracy: 1.0000\n",
            "Epoch 4/4\n",
            "313/313 [==============================] - 1s 3ms/step - loss: 0.0040 - accuracy: 0.9987 - val_loss: 0.0078 - val_accuracy: 0.9970\n"
          ],
          "name": "stdout"
        }
      ]
    },
    {
      "cell_type": "code",
      "metadata": {
        "colab": {
          "base_uri": "https://localhost:8080/",
          "height": 290
        },
        "id": "Cr5-Q3ODSkaR",
        "outputId": "8cd28830-f484-44a1-8e5d-cc6af8350e9e"
      },
      "source": [
        "debug_model = Model([input_story_, input_question_], story_weights)\r\n",
        "\r\n",
        "# choose a random story\r\n",
        "story_idx = np.random.choice(len(train_stories))\r\n",
        "\r\n",
        "# get weights from debug model\r\n",
        "i = inputs_train[story_idx:story_idx+1]\r\n",
        "q = queries_train[story_idx:story_idx+1]\r\n",
        "w = debug_model.predict([i, q]).flatten()\r\n",
        "\r\n",
        "story, question, ans = train_stories[story_idx]\r\n",
        "print(\"story:\\n\")\r\n",
        "for i, line in enumerate(story):\r\n",
        "  print(\"{:1.5f}\".format(w[i]), \"\\t\", \" \".join(line))\r\n",
        "\r\n",
        "print(\"question:\", \" \".join(question))\r\n",
        "print(\"answer:\", ans)\r\n",
        "\r\n",
        "\r\n",
        "# pause so we can see the output\r\n",
        "input(\"Hit enter to continue\\n\\n\")"
      ],
      "execution_count": 23,
      "outputs": [
        {
          "output_type": "stream",
          "text": [
            "story:\n",
            "\n",
            "0.00000 \t 0 Sandra went to the hallway .\n",
            "0.00000 \t 1 John went back to the bathroom .\n",
            "0.00001 \t 3 Mary went back to the bedroom .\n",
            "0.00000 \t 4 John went to the hallway .\n",
            "0.00000 \t 6 Sandra journeyed to the office .\n",
            "0.01285 \t 7 Mary went back to the kitchen .\n",
            "0.00000 \t 9 John travelled to the kitchen .\n",
            "0.98714 \t 10 Mary went back to the hallway .\n",
            "question: Where is Mary ?\n",
            "answer: hallway\n",
            "Hit enter to continue\n",
            "\n",
            "\n"
          ],
          "name": "stdout"
        },
        {
          "output_type": "execute_result",
          "data": {
            "application/vnd.google.colaboratory.intrinsic+json": {
              "type": "string"
            },
            "text/plain": [
              "''"
            ]
          },
          "metadata": {
            "tags": []
          },
          "execution_count": 23
        }
      ]
    },
    {
      "cell_type": "markdown",
      "metadata": {
        "id": "BfgOXATaSqRf"
      },
      "source": [
        "**Two Supporting Facts**"
      ]
    },
    {
      "cell_type": "code",
      "metadata": {
        "colab": {
          "base_uri": "https://localhost:8080/"
        },
        "id": "onxDgJNPSoMI",
        "outputId": "cc789549-89ac-4a92-a640-388e76a5e93e"
      },
      "source": [
        "train_stories, test_stories, \\\r\n",
        "  inputs_train, queries_train, answers_train, \\\r\n",
        "  inputs_test, queries_test, answers_test, \\\r\n",
        "  story_maxsents, story_maxlen, query_maxlen, \\\r\n",
        "  vocab, vocab_size = get_data('two_supporting_facts_10k')"
      ],
      "execution_count": 24,
      "outputs": [
        {
          "output_type": "stream",
          "text": [
            "inputs_train.shape, inputs_test.shape (10000, 88, 8) (1000, 88, 8)\n"
          ],
          "name": "stdout"
        }
      ]
    },
    {
      "cell_type": "code",
      "metadata": {
        "id": "4s9vYNDAS0jN"
      },
      "source": [
        "embedding_dim = 30\r\n"
      ],
      "execution_count": 25,
      "outputs": []
    },
    {
      "cell_type": "code",
      "metadata": {
        "id": "FfhA1SGTSyFQ"
      },
      "source": [
        "def embed_and_sum(x, axis=2):\r\n",
        "  x = Embedding(vocab_size, embedding_dim)(x)\r\n",
        "  x = Lambda(lambda x: K.sum(x, axis))(x)\r\n",
        "  return x"
      ],
      "execution_count": 26,
      "outputs": []
    },
    {
      "cell_type": "code",
      "metadata": {
        "id": "dZNaSR2PS2jg"
      },
      "source": [
        "input_story_ = Input((story_maxsents, story_maxlen))\r\n",
        "input_question_ = Input((query_maxlen,))\r\n",
        "\r\n",
        "embedded_story = embed_and_sum(input_story_)\r\n",
        "embedded_question = embed_and_sum(input_question_, 1)\r\n",
        "\r\n",
        "dense_layer = Dense(embedding_dim, activation='elu')"
      ],
      "execution_count": 30,
      "outputs": []
    },
    {
      "cell_type": "code",
      "metadata": {
        "id": "VKxek2jmS4mA"
      },
      "source": [
        "def hop(query, story):\r\n",
        "  # query.shape = (embedding_dim,)\r\n",
        "  # story.shape = (num sentences, embedding_dim)\r\n",
        "  x = Reshape((1, embedding_dim))(query) # make it (1, embedding_dim)\r\n",
        "  x = dot([story, x], 2)\r\n",
        "  x = Reshape((story_maxsents,))(x) # flatten it for softmax\r\n",
        "  x = Activation('softmax')(x)\r\n",
        "  story_weights = Reshape((story_maxsents, 1))(x) # unflatten for dotting\r\n",
        "\r\n",
        "  # makes a new embedding\r\n",
        "  story_embedding2 = embed_and_sum(input_story_)\r\n",
        "  x = dot([story_weights, story_embedding2], 1)\r\n",
        "  x = Reshape((embedding_dim,))(x)\r\n",
        "  x = dense_layer(x)\r\n",
        "  return x, story_embedding2, story_weights"
      ],
      "execution_count": 31,
      "outputs": []
    },
    {
      "cell_type": "code",
      "metadata": {
        "id": "MvBECwJ1TAHY"
      },
      "source": [
        "# do the hops\r\n",
        "ans1, embedded_story, story_weights1 = hop(embedded_question, embedded_story)\r\n",
        "ans2, _,              story_weights2 = hop(ans1,              embedded_story)\r\n",
        "\r\n",
        "# get the final answer\r\n",
        "ans = Dense(vocab_size, activation='softmax')(ans2)"
      ],
      "execution_count": 32,
      "outputs": []
    },
    {
      "cell_type": "code",
      "metadata": {
        "colab": {
          "base_uri": "https://localhost:8080/"
        },
        "id": "KRARW5ZuTCaY",
        "outputId": "7a29ecfd-ea3d-4455-a314-38e4c9ab45f4"
      },
      "source": [
        "# build the model\r\n",
        "model2 = Model([input_story_, input_question_], ans)\r\n",
        "\r\n",
        "# compile the model\r\n",
        "model2.compile(\r\n",
        "  optimizer=RMSprop(lr=5e-3),\r\n",
        "  loss='sparse_categorical_crossentropy',\r\n",
        "  metrics=['accuracy']\r\n",
        ")\r\n",
        "\r\n",
        "# fit the model\r\n",
        "r = model2.fit(\r\n",
        "  [inputs_train, queries_train],\r\n",
        "  answers_train,\r\n",
        "  epochs=30,\r\n",
        "  batch_size=32,\r\n",
        "  validation_data=([inputs_test, queries_test], answers_test)\r\n",
        ")\r\n",
        "\r\n",
        "\r\n",
        "### print story line weights again ###\r\n",
        "debug_model2 = Model(\r\n",
        "  [input_story_, input_question_],\r\n",
        "  [story_weights1, story_weights2]\r\n",
        ")\r\n",
        "\r\n",
        "# choose a random story\r\n",
        "story_idx = np.random.choice(len(train_stories))\r\n",
        "\r\n",
        "# get weights from debug model\r\n",
        "i = inputs_train[story_idx:story_idx+1]\r\n",
        "q = queries_train[story_idx:story_idx+1]\r\n",
        "w1, w2 = debug_model2.predict([i, q])\r\n",
        "w1 = w1.flatten()\r\n",
        "w2 = w2.flatten()\r\n",
        "\r\n",
        "story, question, ans = train_stories[story_idx]\r\n",
        "print(\"story:\\n\")\r\n",
        "for j, line in enumerate(story):\r\n",
        "  print(\"{:1.5f}\".format(w1[j]), \"\\t\", \"{:1.5f}\".format(w2[j]), \"\\t\", \" \".join(line))\r\n",
        "\r\n",
        "print(\"question:\", \" \".join(question))\r\n",
        "print(\"answer:\", ans)\r\n",
        "print(\"prediction:\", vocab[ np.argmax(model2.predict([i, q])[0]) ])"
      ],
      "execution_count": 33,
      "outputs": [
        {
          "output_type": "stream",
          "text": [
            "Epoch 1/30\n",
            "313/313 [==============================] - 2s 7ms/step - loss: 1.7605 - accuracy: 0.2522 - val_loss: 1.4927 - val_accuracy: 0.3870\n",
            "Epoch 2/30\n",
            "313/313 [==============================] - 2s 6ms/step - loss: 1.0596 - accuracy: 0.5968 - val_loss: 0.9035 - val_accuracy: 0.6710\n",
            "Epoch 3/30\n",
            "313/313 [==============================] - 2s 6ms/step - loss: 0.7608 - accuracy: 0.7248 - val_loss: 0.7707 - val_accuracy: 0.6960\n",
            "Epoch 4/30\n",
            "313/313 [==============================] - 2s 6ms/step - loss: 0.5833 - accuracy: 0.7812 - val_loss: 0.5874 - val_accuracy: 0.7730\n",
            "Epoch 5/30\n",
            "313/313 [==============================] - 2s 6ms/step - loss: 0.4570 - accuracy: 0.8363 - val_loss: 0.4888 - val_accuracy: 0.8330\n",
            "Epoch 6/30\n",
            "313/313 [==============================] - 2s 7ms/step - loss: 0.3937 - accuracy: 0.8602 - val_loss: 0.5112 - val_accuracy: 0.8390\n",
            "Epoch 7/30\n",
            "313/313 [==============================] - 2s 6ms/step - loss: 0.3395 - accuracy: 0.8838 - val_loss: 0.4896 - val_accuracy: 0.8420\n",
            "Epoch 8/30\n",
            "313/313 [==============================] - 2s 6ms/step - loss: 0.3151 - accuracy: 0.8950 - val_loss: 0.3282 - val_accuracy: 0.8960\n",
            "Epoch 9/30\n",
            "313/313 [==============================] - 2s 6ms/step - loss: 0.2872 - accuracy: 0.9051 - val_loss: 0.4220 - val_accuracy: 0.8520\n",
            "Epoch 10/30\n",
            "313/313 [==============================] - 2s 6ms/step - loss: 0.2607 - accuracy: 0.9172 - val_loss: 0.4204 - val_accuracy: 0.8740\n",
            "Epoch 11/30\n",
            "313/313 [==============================] - 2s 6ms/step - loss: 0.2546 - accuracy: 0.9163 - val_loss: 0.4494 - val_accuracy: 0.8640\n",
            "Epoch 12/30\n",
            "313/313 [==============================] - 2s 6ms/step - loss: 0.2386 - accuracy: 0.9280 - val_loss: 0.3485 - val_accuracy: 0.8820\n",
            "Epoch 13/30\n",
            "313/313 [==============================] - 2s 6ms/step - loss: 0.2171 - accuracy: 0.9350 - val_loss: 0.4098 - val_accuracy: 0.8930\n",
            "Epoch 14/30\n",
            "313/313 [==============================] - 2s 6ms/step - loss: 0.2057 - accuracy: 0.9383 - val_loss: 0.4066 - val_accuracy: 0.8670\n",
            "Epoch 15/30\n",
            "313/313 [==============================] - 2s 6ms/step - loss: 0.2033 - accuracy: 0.9408 - val_loss: 0.3824 - val_accuracy: 0.8850\n",
            "Epoch 16/30\n",
            "313/313 [==============================] - 2s 6ms/step - loss: 0.1896 - accuracy: 0.9450 - val_loss: 0.3189 - val_accuracy: 0.9030\n",
            "Epoch 17/30\n",
            "313/313 [==============================] - 2s 6ms/step - loss: 0.1979 - accuracy: 0.9451 - val_loss: 0.3386 - val_accuracy: 0.9000\n",
            "Epoch 18/30\n",
            "313/313 [==============================] - 2s 6ms/step - loss: 0.1884 - accuracy: 0.9476 - val_loss: 0.3143 - val_accuracy: 0.9130\n",
            "Epoch 19/30\n",
            "313/313 [==============================] - 2s 6ms/step - loss: 0.1874 - accuracy: 0.9471 - val_loss: 0.4084 - val_accuracy: 0.8980\n",
            "Epoch 20/30\n",
            "313/313 [==============================] - 2s 6ms/step - loss: 0.1908 - accuracy: 0.9484 - val_loss: 0.2858 - val_accuracy: 0.9200\n",
            "Epoch 21/30\n",
            "313/313 [==============================] - 2s 6ms/step - loss: 0.1668 - accuracy: 0.9526 - val_loss: 0.2986 - val_accuracy: 0.9010\n",
            "Epoch 22/30\n",
            "313/313 [==============================] - 2s 6ms/step - loss: 0.1790 - accuracy: 0.9530 - val_loss: 0.4010 - val_accuracy: 0.8960\n",
            "Epoch 23/30\n",
            "313/313 [==============================] - 2s 7ms/step - loss: 0.1671 - accuracy: 0.9550 - val_loss: 0.3573 - val_accuracy: 0.9000\n",
            "Epoch 24/30\n",
            "313/313 [==============================] - 2s 6ms/step - loss: 0.1565 - accuracy: 0.9597 - val_loss: 0.3128 - val_accuracy: 0.9080\n",
            "Epoch 25/30\n",
            "313/313 [==============================] - 2s 6ms/step - loss: 0.1519 - accuracy: 0.9600 - val_loss: 0.3123 - val_accuracy: 0.9110\n",
            "Epoch 26/30\n",
            "313/313 [==============================] - 2s 6ms/step - loss: 0.1427 - accuracy: 0.9603 - val_loss: 0.3492 - val_accuracy: 0.9080\n",
            "Epoch 27/30\n",
            "313/313 [==============================] - 2s 7ms/step - loss: 0.1841 - accuracy: 0.9561 - val_loss: 0.3434 - val_accuracy: 0.9030\n",
            "Epoch 28/30\n",
            "313/313 [==============================] - 2s 6ms/step - loss: 0.1461 - accuracy: 0.9630 - val_loss: 0.3724 - val_accuracy: 0.8910\n",
            "Epoch 29/30\n",
            "313/313 [==============================] - 2s 6ms/step - loss: 0.1549 - accuracy: 0.9606 - val_loss: 0.3190 - val_accuracy: 0.9070\n",
            "Epoch 30/30\n",
            "313/313 [==============================] - 2s 6ms/step - loss: 0.1480 - accuracy: 0.9634 - val_loss: 0.3470 - val_accuracy: 0.9170\n",
            "story:\n",
            "\n",
            "0.00000 \t 0.00000 \t 0 Mary travelled to the bedroom .\n",
            "0.00000 \t 0.00000 \t 1 Mary went to the kitchen .\n",
            "0.00000 \t 0.00000 \t 2 John went to the bedroom .\n",
            "0.00000 \t 0.00000 \t 3 Daniel went to the bedroom .\n",
            "0.00000 \t 0.00000 \t 4 Daniel grabbed the football there .\n",
            "0.00000 \t 0.00000 \t 5 Daniel took the apple there .\n",
            "0.00000 \t 0.00000 \t 6 John went to the office .\n",
            "0.00000 \t 0.00000 \t 7 John travelled to the bathroom .\n",
            "0.00000 \t 0.00000 \t 8 John moved to the office .\n",
            "0.00000 \t 0.00000 \t 9 Mary travelled to the bedroom .\n",
            "0.00000 \t 0.00000 \t 10 Daniel dropped the apple .\n",
            "0.00000 \t 0.00004 \t 11 John went to the bathroom .\n",
            "0.00000 \t 0.00000 \t 13 Daniel dropped the football .\n",
            "1.00000 \t 0.00000 \t 14 John took the milk there .\n",
            "0.00000 \t 0.00000 \t 16 Mary went back to the kitchen .\n",
            "0.00000 \t 0.99995 \t 17 John went to the garden .\n",
            "0.00000 \t 0.00000 \t 19 Daniel went to the hallway .\n",
            "0.00000 \t 0.00000 \t 20 Sandra travelled to the bedroom .\n",
            "question: Where is the milk ?\n",
            "answer: garden\n",
            "prediction: garden\n"
          ],
          "name": "stdout"
        }
      ]
    },
    {
      "cell_type": "code",
      "metadata": {
        "colab": {
          "base_uri": "https://localhost:8080/",
          "height": 265
        },
        "id": "RoUqfpmmTGwB",
        "outputId": "b7d1ae16-cd1f-40df-dff2-9e3eea5fc453"
      },
      "source": [
        "# plot some data\r\n",
        "plt.plot(r.history['loss'], label='loss')\r\n",
        "plt.plot(r.history['val_loss'], label='val_loss')\r\n",
        "plt.legend()\r\n",
        "plt.show()\r\n",
        "\r\n"
      ],
      "execution_count": 35,
      "outputs": [
        {
          "output_type": "display_data",
          "data": {
            "image/png": "[encoded data removed]",
            "text/plain": [
              "<Figure size 432x288 with 1 Axes>"
            ]
          },
          "metadata": {
            "tags": [],
            "needs_background": "light"
          }
        }
      ]
    },
    {
      "cell_type": "code",
      "metadata": {
        "colab": {
          "base_uri": "https://localhost:8080/",
          "height": 265
        },
        "id": "odILa319TeeQ",
        "outputId": "7b9b56d5-40b2-4838-e353-d510be5a5222"
      },
      "source": [
        "# accuracies\r\n",
        "plt.plot(r.history['accuracy'], label='acc')\r\n",
        "plt.plot(r.history['val_accuracy'], label='val_acc')\r\n",
        "plt.legend()\r\n",
        "plt.show()"
      ],
      "execution_count": 36,
      "outputs": [
        {
          "output_type": "display_data",
          "data": {
            "image/png": "[encoded data removed]",
            "text/plain": [
              "<Figure size 432x288 with 1 Axes>"
            ]
          },
          "metadata": {
            "tags": [],
            "needs_background": "light"
          }
        }
      ]
    },
    {
      "cell_type": "code",
      "metadata": {
        "id": "TIIvBZHfTh3w"
      },
      "source": [
        ""
      ],
      "execution_count": null,
      "outputs": []
    }
  ]
}