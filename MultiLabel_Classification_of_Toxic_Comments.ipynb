{
  "nbformat": 4,
  "nbformat_minor": 0,
  "metadata": {
    "colab": {
      "name": "MultiLabel Classification of Toxic Comments.ipynb",
      "provenance": [],
      "authorship_tag": "ABX9TyMMLw+r8RmiktioKKjTsr3P",
      "include_colab_link": true
    },
    "kernelspec": {
      "name": "python3",
      "display_name": "Python 3"
    }
  },
  "cells": [
    {
      "cell_type": "markdown",
      "metadata": {
        "id": "view-in-github",
        "colab_type": "text"
      },
      "source": [
        "<a href=\"https://colab.research.google.com/github/shubhamphal/One-NLP/blob/master/MultiLabel_Classification_of_Toxic_Comments.ipynb\" target=\"_parent\"><img src=\"https://colab.research.google.com/assets/colab-badge.svg\" alt=\"Open In Colab\"/></a>"
      ]
    },
    {
      "cell_type": "markdown",
      "metadata": {
        "id": "CD1WxYX8FdFE",
        "colab_type": "text"
      },
      "source": [
        "#Kaggle Toxic Comments Classification\n",
        "https://www.kaggle.com/c/jigsaw-toxic-comment-classification-challenge/\n",
        "\n",
        "The following code gives a roc_auc score of 0.97271 on public test set and\n",
        "0.97190 on private test set"
      ]
    },
    {
      "cell_type": "code",
      "metadata": {
        "id": "rgq-guJ02ckt",
        "colab_type": "code",
        "colab": {}
      },
      "source": [
        " !pip install -q kaggle"
      ],
      "execution_count": null,
      "outputs": []
    },
    {
      "cell_type": "markdown",
      "metadata": {
        "id": "u5BHc-W447Uj",
        "colab_type": "text"
      },
      "source": [
        "Get Kaggle API token and upload Kaggle.json"
      ]
    },
    {
      "cell_type": "code",
      "metadata": {
        "id": "YdhYG96T3oD3",
        "colab_type": "code",
        "colab": {
          "base_uri": "https://localhost:8080/",
          "height": 35
        },
        "outputId": "8bfc1fbf-e9e3-4f6c-f085-712957822b15"
      },
      "source": [
        " !mkdir ~/.kaggle"
      ],
      "execution_count": null,
      "outputs": [
        {
          "output_type": "stream",
          "text": [
            "mkdir: cannot create directory ‘/root/.kaggle’: File exists\n"
          ],
          "name": "stdout"
        }
      ]
    },
    {
      "cell_type": "code",
      "metadata": {
        "id": "952XWL0w4kRJ",
        "colab_type": "code",
        "colab": {}
      },
      "source": [
        "!cp kaggle.json ~/.kaggle/"
      ],
      "execution_count": null,
      "outputs": []
    },
    {
      "cell_type": "code",
      "metadata": {
        "id": "y5gYuu_C4vsI",
        "colab_type": "code",
        "colab": {}
      },
      "source": [
        " !chmod 600 ~/.kaggle/kaggle.json"
      ],
      "execution_count": null,
      "outputs": []
    },
    {
      "cell_type": "code",
      "metadata": {
        "id": "iHSmWY8a27di",
        "colab_type": "code",
        "colab": {}
      },
      "source": [
        "!kaggle competitions download -c jigsaw-toxic-comment-classification-challenge"
      ],
      "execution_count": null,
      "outputs": []
    },
    {
      "cell_type": "markdown",
      "metadata": {
        "id": "YM8ZISw_5jHV",
        "colab_type": "text"
      },
      "source": [
        "\n",
        "Download GLoVe"
      ]
    },
    {
      "cell_type": "code",
      "metadata": {
        "id": "POQ86HTL3hJ0",
        "colab_type": "code",
        "colab": {}
      },
      "source": [
        "!wget nlp.stanford.edu/data/glove.6B.zip"
      ],
      "execution_count": null,
      "outputs": []
    },
    {
      "cell_type": "code",
      "metadata": {
        "id": "HHxL_oM_5oC5",
        "colab_type": "code",
        "colab": {}
      },
      "source": [
        "!unzip glove.6B.zip"
      ],
      "execution_count": null,
      "outputs": []
    },
    {
      "cell_type": "code",
      "metadata": {
        "id": "Pufjqi3U54h1",
        "colab_type": "code",
        "colab": {}
      },
      "source": [
        "import os\n",
        "import sys\n",
        "import numpy as np \n",
        "import pandas as pd\n",
        "import matplotlib.pyplot as plt\n",
        "import nltk\n",
        "from keras.preprocessing.text import Tokenizer\n",
        "from keras.preprocessing.sequence import pad_sequences\n",
        "from keras.layers import Input, Dense, GlobalMaxPooling1D, Bidirectional, LSTM, GRU, GlobalMaxPool1D, Dropout\n",
        "from keras.layers import Conv1D, MaxPooling1D, Embedding\n",
        "from keras.models import Model\n",
        "from sklearn.metrics import roc_auc_score\n",
        "from nltk.corpus import stopwords\n",
        "from keras.optimizers import Adam\n",
        "from nltk.tokenize import word_tokenize"
      ],
      "execution_count": 62,
      "outputs": []
    },
    {
      "cell_type": "code",
      "metadata": {
        "id": "EyPZnvd99P7R",
        "colab_type": "code",
        "colab": {}
      },
      "source": [
        "nltk.download('stopwords')\n",
        "nltk.download('punkt')"
      ],
      "execution_count": null,
      "outputs": []
    },
    {
      "cell_type": "code",
      "metadata": {
        "id": "GynKE9q39AAV",
        "colab_type": "code",
        "colab": {}
      },
      "source": [
        "#Extract test, train and labels \n",
        "import zipfile\n",
        "with zipfile.ZipFile('test.csv.zip', 'r') as zip_ref:\n",
        "    zip_ref.extractall(os.getcwd())\n",
        "with zipfile.ZipFile('train.csv.zip', 'r') as zip_ref:\n",
        "    zip_ref.extractall(os.getcwd())"
      ],
      "execution_count": null,
      "outputs": []
    },
    {
      "cell_type": "code",
      "metadata": {
        "id": "8naAsCQS5-iE",
        "colab_type": "code",
        "colab": {}
      },
      "source": [
        "EMBEDDING_DIM=100\n",
        "MAX_VOCAB_SIZE=20000\n",
        "MAX_SEQUENCE_LENGTH=100"
      ],
      "execution_count": null,
      "outputs": []
    },
    {
      "cell_type": "code",
      "metadata": {
        "id": "zwh4Hnlw6GOm",
        "colab_type": "code",
        "colab": {}
      },
      "source": [
        "f=open(os.path.join('.','glove.6B.%sd.txt'%EMBEDDING_DIM))"
      ],
      "execution_count": null,
      "outputs": []
    },
    {
      "cell_type": "code",
      "metadata": {
        "id": "xvHqiUzG6LJe",
        "colab_type": "code",
        "colab": {}
      },
      "source": [
        "stop_words = set(stopwords.words('english')) "
      ],
      "execution_count": null,
      "outputs": []
    },
    {
      "cell_type": "code",
      "metadata": {
        "id": "OMPW9pWv6eZG",
        "colab_type": "code",
        "colab": {}
      },
      "source": [
        "word2vec={}\n",
        "for line in f:\n",
        "    values=line.split()\n",
        "    word=values[0]\n",
        "    vector=np.asarray(values[1:],dtype='float32')\n",
        "    word2vec[word]=vector"
      ],
      "execution_count": null,
      "outputs": []
    },
    {
      "cell_type": "code",
      "metadata": {
        "id": "BN3yXGOx6hD2",
        "colab_type": "code",
        "colab": {}
      },
      "source": [
        "train_data=pd.read_csv('train.csv')"
      ],
      "execution_count": null,
      "outputs": []
    },
    {
      "cell_type": "code",
      "metadata": {
        "id": "hN0CLGAN6jCw",
        "colab_type": "code",
        "colab": {
          "base_uri": "https://localhost:8080/",
          "height": 198
        },
        "outputId": "d4a710e7-2927-467d-b6c3-7c7768499624"
      },
      "source": [
        "train_data.head()"
      ],
      "execution_count": null,
      "outputs": [
        {
          "output_type": "execute_result",
          "data": {
            "text/html": [
              "<div>\n",
              "<style scoped>\n",
              "    .dataframe tbody tr th:only-of-type {\n",
              "        vertical-align: middle;\n",
              "    }\n",
              "\n",
              "    .dataframe tbody tr th {\n",
              "        vertical-align: top;\n",
              "    }\n",
              "\n",
              "    .dataframe thead th {\n",
              "        text-align: right;\n",
              "    }\n",
              "</style>\n",
              "<table border=\"1\" class=\"dataframe\">\n",
              "  <thead>\n",
              "    <tr style=\"text-align: right;\">\n",
              "      <th></th>\n",
              "      <th>id</th>\n",
              "      <th>comment_text</th>\n",
              "      <th>toxic</th>\n",
              "      <th>severe_toxic</th>\n",
              "      <th>obscene</th>\n",
              "      <th>threat</th>\n",
              "      <th>insult</th>\n",
              "      <th>identity_hate</th>\n",
              "    </tr>\n",
              "  </thead>\n",
              "  <tbody>\n",
              "    <tr>\n",
              "      <th>0</th>\n",
              "      <td>0000997932d777bf</td>\n",
              "      <td>Explanation\\nWhy the edits made under my usern...</td>\n",
              "      <td>0</td>\n",
              "      <td>0</td>\n",
              "      <td>0</td>\n",
              "      <td>0</td>\n",
              "      <td>0</td>\n",
              "      <td>0</td>\n",
              "    </tr>\n",
              "    <tr>\n",
              "      <th>1</th>\n",
              "      <td>000103f0d9cfb60f</td>\n",
              "      <td>D'aww! He matches this background colour I'm s...</td>\n",
              "      <td>0</td>\n",
              "      <td>0</td>\n",
              "      <td>0</td>\n",
              "      <td>0</td>\n",
              "      <td>0</td>\n",
              "      <td>0</td>\n",
              "    </tr>\n",
              "    <tr>\n",
              "      <th>2</th>\n",
              "      <td>000113f07ec002fd</td>\n",
              "      <td>Hey man, I'm really not trying to edit war. It...</td>\n",
              "      <td>0</td>\n",
              "      <td>0</td>\n",
              "      <td>0</td>\n",
              "      <td>0</td>\n",
              "      <td>0</td>\n",
              "      <td>0</td>\n",
              "    </tr>\n",
              "    <tr>\n",
              "      <th>3</th>\n",
              "      <td>0001b41b1c6bb37e</td>\n",
              "      <td>\"\\nMore\\nI can't make any real suggestions on ...</td>\n",
              "      <td>0</td>\n",
              "      <td>0</td>\n",
              "      <td>0</td>\n",
              "      <td>0</td>\n",
              "      <td>0</td>\n",
              "      <td>0</td>\n",
              "    </tr>\n",
              "    <tr>\n",
              "      <th>4</th>\n",
              "      <td>0001d958c54c6e35</td>\n",
              "      <td>You, sir, are my hero. Any chance you remember...</td>\n",
              "      <td>0</td>\n",
              "      <td>0</td>\n",
              "      <td>0</td>\n",
              "      <td>0</td>\n",
              "      <td>0</td>\n",
              "      <td>0</td>\n",
              "    </tr>\n",
              "  </tbody>\n",
              "</table>\n",
              "</div>"
            ],
            "text/plain": [
              "                 id  ... identity_hate\n",
              "0  0000997932d777bf  ...             0\n",
              "1  000103f0d9cfb60f  ...             0\n",
              "2  000113f07ec002fd  ...             0\n",
              "3  0001b41b1c6bb37e  ...             0\n",
              "4  0001d958c54c6e35  ...             0\n",
              "\n",
              "[5 rows x 8 columns]"
            ]
          },
          "metadata": {
            "tags": []
          },
          "execution_count": 26
        }
      ]
    },
    {
      "cell_type": "code",
      "metadata": {
        "id": "uiKHqQwt6n5U",
        "colab_type": "code",
        "colab": {}
      },
      "source": [
        "def preprocessed(comment):\n",
        "    words = nltk.word_tokenize(comment)\n",
        "    words=[word.lower() for word in words if word.isalpha()]\n",
        "    words=[word for word in words if word not in stop_words]\n",
        "    return ' '.join(words)"
      ],
      "execution_count": null,
      "outputs": []
    },
    {
      "cell_type": "code",
      "metadata": {
        "id": "4J8ikGuA6rRj",
        "colab_type": "code",
        "colab": {
          "base_uri": "https://localhost:8080/",
          "height": 92
        },
        "outputId": "4a545e59-0c28-48b0-8239-b7ee81237457"
      },
      "source": [
        "comment1=train_data['comment_text'].iloc[0]\n",
        "print(\"Natural\",comment1)\n",
        "print(\"Preprocessing\",preprocessed(comment1))"
      ],
      "execution_count": null,
      "outputs": [
        {
          "output_type": "stream",
          "text": [
            "Natural Explanation\n",
            "Why the edits made under my username Hardcore Metallica Fan were reverted? They weren't vandalisms, just closure on some GAs after I voted at New York Dolls FAC. And please don't remove the template from the talk page since I'm retired now.89.205.38.27\n",
            "Preprocessing explanation edits made username hardcore metallica fan reverted vandalisms closure gas voted new york dolls fac please remove template talk page since retired\n"
          ],
          "name": "stdout"
        }
      ]
    },
    {
      "cell_type": "code",
      "metadata": {
        "id": "8zz0w9FC6shA",
        "colab_type": "code",
        "colab": {}
      },
      "source": [
        "train_data['preprocessed_comments']=train_data['comment_text'].apply(preprocessed)"
      ],
      "execution_count": null,
      "outputs": []
    },
    {
      "cell_type": "code",
      "metadata": {
        "id": "XHU7vh1b6skA",
        "colab_type": "code",
        "colab": {}
      },
      "source": [
        "possible_labels = [\"toxic\", \"severe_toxic\", \"obscene\", \"threat\", \"insult\", \"identity_hate\"]"
      ],
      "execution_count": null,
      "outputs": []
    },
    {
      "cell_type": "code",
      "metadata": {
        "id": "C97DIrL36ssz",
        "colab_type": "code",
        "colab": {}
      },
      "source": [
        "sentences=train_data['preprocessed_comments'].values\n",
        "targets=train_data[possible_labels].values"
      ],
      "execution_count": null,
      "outputs": []
    },
    {
      "cell_type": "code",
      "metadata": {
        "id": "XJiW5wNk6su_",
        "colab_type": "code",
        "colab": {
          "base_uri": "https://localhost:8080/",
          "height": 72
        },
        "outputId": "e88971c3-28c7-447b-b19d-95770774db9b"
      },
      "source": [
        "print('max sequence length :',max(len(s) for s in sentences))\n",
        "print('min sequence length :',min(len(s) for s in sentences))\n",
        "sorted_lens= sorted(len(s) for s in sentences)\n",
        "print('median sequence length',sorted_lens[len(sorted_lens)//2])"
      ],
      "execution_count": null,
      "outputs": [
        {
          "output_type": "stream",
          "text": [
            "max sequence length : 5000\n",
            "min sequence length : 0\n",
            "median sequence length 119\n"
          ],
          "name": "stdout"
        }
      ]
    },
    {
      "cell_type": "code",
      "metadata": {
        "id": "1_i8wK-j62di",
        "colab_type": "code",
        "colab": {
          "base_uri": "https://localhost:8080/",
          "height": 35
        },
        "outputId": "884a7e07-96ed-46b5-bbdb-f4c9fd267f46"
      },
      "source": [
        "tokenizer=Tokenizer(num_words=MAX_VOCAB_SIZE)\n",
        "tokenizer.fit_on_texts(sentences)\n",
        "sequences=tokenizer.texts_to_sequences(sentences)\n",
        "print(\"max word index:\", max(max(seq) for seq in sequences if len(seq) > 0))"
      ],
      "execution_count": null,
      "outputs": [
        {
          "output_type": "stream",
          "text": [
            "max word index: 19999\n"
          ],
          "name": "stdout"
        }
      ]
    },
    {
      "cell_type": "code",
      "metadata": {
        "id": "cIRDMsiO62gN",
        "colab_type": "code",
        "colab": {
          "base_uri": "https://localhost:8080/",
          "height": 35
        },
        "outputId": "62eb4c15-19f0-407c-a0ee-b6aebc91a7b2"
      },
      "source": [
        "word2idx=tokenizer.word_index\n",
        "print('Found %s unique tokens'%len(word2idx))"
      ],
      "execution_count": null,
      "outputs": [
        {
          "output_type": "stream",
          "text": [
            "Found 157304 unique tokens\n"
          ],
          "name": "stdout"
        }
      ]
    },
    {
      "cell_type": "code",
      "metadata": {
        "id": "SV3JxUq57DtR",
        "colab_type": "code",
        "colab": {
          "base_uri": "https://localhost:8080/",
          "height": 35
        },
        "outputId": "373dacf9-728a-4a26-deff-0511d60fc253"
      },
      "source": [
        "data=pad_sequences(sequences,maxlen=MAX_SEQUENCE_LENGTH)\n",
        "print(data.shape)"
      ],
      "execution_count": null,
      "outputs": [
        {
          "output_type": "stream",
          "text": [
            "(159571, 100)\n"
          ],
          "name": "stdout"
        }
      ]
    },
    {
      "cell_type": "code",
      "metadata": {
        "id": "tJgBry1W7Utt",
        "colab_type": "code",
        "colab": {}
      },
      "source": [
        "np.random.seed(0)\n",
        "num_words=min(MAX_VOCAB_SIZE,len(word2idx)+1)\n",
        "embedding_matrix=np.random.randn(num_words,EMBEDDING_DIM)*0.1\n",
        "for word, i in word2idx.items():\n",
        "    if i<MAX_VOCAB_SIZE:\n",
        "        embedding_vector=word2vec.get(word)\n",
        "        if embedding_vector is not None:\n",
        "            embedding_matrix[i]=embedding_vector"
      ],
      "execution_count": null,
      "outputs": []
    },
    {
      "cell_type": "code",
      "metadata": {
        "id": "Z9UkUaso-r0P",
        "colab_type": "code",
        "colab": {}
      },
      "source": [
        "print(embedding_matrix)"
      ],
      "execution_count": null,
      "outputs": []
    },
    {
      "cell_type": "code",
      "metadata": {
        "id": "jsaN66nl7VuJ",
        "colab_type": "code",
        "colab": {}
      },
      "source": [
        "embedding_layer=Embedding(num_words,EMBEDDING_DIM,weights=[embedding_matrix],input_length=MAX_SEQUENCE_LENGTH,trainable=False)"
      ],
      "execution_count": 53,
      "outputs": []
    },
    {
      "cell_type": "code",
      "metadata": {
        "id": "lYY7dSqT7c1I",
        "colab_type": "code",
        "colab": {}
      },
      "source": [
        "#1D Convolutions Approach\n",
        "#input_=Input(shape=(MAX_SEQUENCE_LENGTH,))\n",
        "#x=embedding_layer(input_)\n",
        "#x=Conv1D(128,3,activation='relu')(x)\n",
        "#x=MaxPooling1D(3)(x)\n",
        "#x=Conv1D(128,3,activation='relu')(x)\n",
        "#x=MaxPooling1D(3)(x)\n",
        "#x=Conv1D(128,3,activation='relu')(x)\n",
        "#x=GlobalMaxPooling1D()(x)\n",
        "#x=Dense(128,activation='relu')(x)\n",
        "#ouput_= Dense(len(possible_labels),activation='sigmoid')(x)"
      ],
      "execution_count": null,
      "outputs": []
    },
    {
      "cell_type": "code",
      "metadata": {
        "id": "Wq_ITbLf-CTe",
        "colab_type": "code",
        "colab": {}
      },
      "source": [
        "input_=Input(shape=(MAX_SEQUENCE_LENGTH,))\n",
        "x=embedding_layer(input_)\n",
        "x=Bidirectional(LSTM(64,return_sequences=True,dropout=0.1))(x)\n",
        "x=GlobalMaxPooling1D()(x)\n",
        "ouput_= Dense(len(possible_labels),activation='sigmoid')(x)"
      ],
      "execution_count": 59,
      "outputs": []
    },
    {
      "cell_type": "code",
      "metadata": {
        "id": "gIBJ9vbz-Cm7",
        "colab_type": "code",
        "colab": {}
      },
      "source": [
        "model=Model(input_,ouput_)"
      ],
      "execution_count": 60,
      "outputs": []
    },
    {
      "cell_type": "code",
      "metadata": {
        "id": "nnelr2lk7c9n",
        "colab_type": "code",
        "colab": {}
      },
      "source": [
        "model.compile(loss='binary_crossentropy',optimizer=Adam(lr=0.01),metrics=['accuracy'])"
      ],
      "execution_count": 63,
      "outputs": []
    },
    {
      "cell_type": "code",
      "metadata": {
        "id": "FM1CPJmKASjl",
        "colab_type": "code",
        "colab": {
          "base_uri": "https://localhost:8080/",
          "height": 374
        },
        "outputId": "65bf52b2-c94c-4c6e-f069-d3c018eb7644"
      },
      "source": [
        "r=model.fit(data,targets,epochs=10,validation_split=0.2,batch_size=128)"
      ],
      "execution_count": 64,
      "outputs": [
        {
          "output_type": "stream",
          "text": [
            "Train on 127656 samples, validate on 31915 samples\n",
            "Epoch 1/10\n",
            "127656/127656 [==============================] - 330s 3ms/step - loss: 0.0622 - accuracy: 0.9787 - val_loss: 0.0531 - val_accuracy: 0.9810\n",
            "Epoch 2/10\n",
            "127656/127656 [==============================] - 323s 3ms/step - loss: 0.0514 - accuracy: 0.9815 - val_loss: 0.0519 - val_accuracy: 0.9812\n",
            "Epoch 3/10\n",
            "127656/127656 [==============================] - 326s 3ms/step - loss: 0.0494 - accuracy: 0.9820 - val_loss: 0.0508 - val_accuracy: 0.9820\n",
            "Epoch 4/10\n",
            "127656/127656 [==============================] - 324s 3ms/step - loss: 0.0479 - accuracy: 0.9825 - val_loss: 0.0507 - val_accuracy: 0.9816\n",
            "Epoch 5/10\n",
            "127656/127656 [==============================] - 326s 3ms/step - loss: 0.0471 - accuracy: 0.9827 - val_loss: 0.0510 - val_accuracy: 0.9814\n",
            "Epoch 6/10\n",
            "127656/127656 [==============================] - 326s 3ms/step - loss: 0.0464 - accuracy: 0.9829 - val_loss: 0.0506 - val_accuracy: 0.9817\n",
            "Epoch 7/10\n",
            "127656/127656 [==============================] - 328s 3ms/step - loss: 0.0458 - accuracy: 0.9831 - val_loss: 0.0515 - val_accuracy: 0.9814\n",
            "Epoch 8/10\n",
            "127656/127656 [==============================] - 325s 3ms/step - loss: 0.0449 - accuracy: 0.9834 - val_loss: 0.0516 - val_accuracy: 0.9816\n",
            "Epoch 9/10\n",
            "127656/127656 [==============================] - 326s 3ms/step - loss: 0.0442 - accuracy: 0.9836 - val_loss: 0.0518 - val_accuracy: 0.9814\n",
            "Epoch 10/10\n",
            "127656/127656 [==============================] - 325s 3ms/step - loss: 0.0436 - accuracy: 0.9838 - val_loss: 0.0512 - val_accuracy: 0.9817\n"
          ],
          "name": "stdout"
        }
      ]
    },
    {
      "cell_type": "markdown",
      "metadata": {
        "id": "BOu5GeCIFZ3Y",
        "colab_type": "text"
      },
      "source": [
        ""
      ]
    },
    {
      "cell_type": "code",
      "metadata": {
        "id": "d2oIVVYaATCG",
        "colab_type": "code",
        "colab": {
          "base_uri": "https://localhost:8080/",
          "height": 265
        },
        "outputId": "56a138cd-4028-49f5-f9a7-f375c9b6b901"
      },
      "source": [
        "plt.plot(r.history['loss'],label='loss')\n",
        "plt.plot(r.history['val_loss'],label='validation loss')\n",
        "plt.legend()\n",
        "plt.show()"
      ],
      "execution_count": 65,
      "outputs": [
        {
          "output_type": "display_data",
          "data": {
            "image/png": "[encoded data removed]",
            "text/plain": [
              "<Figure size 432x288 with 1 Axes>"
            ]
          },
          "metadata": {
            "tags": [],
            "needs_background": "light"
          }
        }
      ]
    },
    {
      "cell_type": "code",
      "metadata": {
        "id": "U0aj4EHsATE3",
        "colab_type": "code",
        "colab": {
          "base_uri": "https://localhost:8080/",
          "height": 266
        },
        "outputId": "ec09f50a-148a-4de6-9fe5-09c44474f1bc"
      },
      "source": [
        "plt.plot(r.history['accuracy'],label='accuracy')\n",
        "plt.plot(r.history['val_accuracy'],label='validation accuracy')\n",
        "plt.legend()\n",
        "plt.show()"
      ],
      "execution_count": 66,
      "outputs": [
        {
          "output_type": "display_data",
          "data": {
            "image/png": "[encoded data removed]",
            "text/plain": [
              "<Figure size 432x288 with 1 Axes>"
            ]
          },
          "metadata": {
            "tags": [],
            "needs_background": "light"
          }
        }
      ]
    },
    {
      "cell_type": "markdown",
      "metadata": {
        "id": "lS1PB4o5RCup",
        "colab_type": "text"
      },
      "source": [
        "ROC AUC SCORE"
      ]
    },
    {
      "cell_type": "code",
      "metadata": {
        "id": "Es4IPW0OASha",
        "colab_type": "code",
        "colab": {
          "base_uri": "https://localhost:8080/",
          "height": 34
        },
        "outputId": "4dc0a75c-6b27-44d9-8552-45580fd73739"
      },
      "source": [
        "predictions=model.predict(data)\n",
        "aucs=[]\n",
        "for j in range(6):\n",
        "    auc=roc_auc_score(targets[:,j],predictions[:,j])\n",
        "    aucs.append(auc)\n",
        "print(np.mean(aucs))"
      ],
      "execution_count": 67,
      "outputs": [
        {
          "output_type": "stream",
          "text": [
            "0.9878514100310082\n"
          ],
          "name": "stdout"
        }
      ]
    },
    {
      "cell_type": "code",
      "metadata": {
        "id": "kh-ALFl4AkkG",
        "colab_type": "code",
        "colab": {}
      },
      "source": [
        "test_data=pd.read_csv('test.csv')"
      ],
      "execution_count": 68,
      "outputs": []
    },
    {
      "cell_type": "code",
      "metadata": {
        "id": "8Gxr7lk3Akmo",
        "colab_type": "code",
        "colab": {
          "base_uri": "https://localhost:8080/",
          "height": 204
        },
        "outputId": "9043cb20-3e26-4e03-e8ca-bed07951d6c2"
      },
      "source": [
        "test_data.head()"
      ],
      "execution_count": 69,
      "outputs": [
        {
          "output_type": "execute_result",
          "data": {
            "text/html": [
              "<div>\n",
              "<style scoped>\n",
              "    .dataframe tbody tr th:only-of-type {\n",
              "        vertical-align: middle;\n",
              "    }\n",
              "\n",
              "    .dataframe tbody tr th {\n",
              "        vertical-align: top;\n",
              "    }\n",
              "\n",
              "    .dataframe thead th {\n",
              "        text-align: right;\n",
              "    }\n",
              "</style>\n",
              "<table border=\"1\" class=\"dataframe\">\n",
              "  <thead>\n",
              "    <tr style=\"text-align: right;\">\n",
              "      <th></th>\n",
              "      <th>id</th>\n",
              "      <th>comment_text</th>\n",
              "    </tr>\n",
              "  </thead>\n",
              "  <tbody>\n",
              "    <tr>\n",
              "      <th>0</th>\n",
              "      <td>00001cee341fdb12</td>\n",
              "      <td>Yo bitch Ja Rule is more succesful then you'll...</td>\n",
              "    </tr>\n",
              "    <tr>\n",
              "      <th>1</th>\n",
              "      <td>0000247867823ef7</td>\n",
              "      <td>== From RfC == \\n\\n The title is fine as it is...</td>\n",
              "    </tr>\n",
              "    <tr>\n",
              "      <th>2</th>\n",
              "      <td>00013b17ad220c46</td>\n",
              "      <td>\" \\n\\n == Sources == \\n\\n * Zawe Ashton on Lap...</td>\n",
              "    </tr>\n",
              "    <tr>\n",
              "      <th>3</th>\n",
              "      <td>00017563c3f7919a</td>\n",
              "      <td>:If you have a look back at the source, the in...</td>\n",
              "    </tr>\n",
              "    <tr>\n",
              "      <th>4</th>\n",
              "      <td>00017695ad8997eb</td>\n",
              "      <td>I don't anonymously edit articles at all.</td>\n",
              "    </tr>\n",
              "  </tbody>\n",
              "</table>\n",
              "</div>"
            ],
            "text/plain": [
              "                 id                                       comment_text\n",
              "0  00001cee341fdb12  Yo bitch Ja Rule is more succesful then you'll...\n",
              "1  0000247867823ef7  == From RfC == \\n\\n The title is fine as it is...\n",
              "2  00013b17ad220c46  \" \\n\\n == Sources == \\n\\n * Zawe Ashton on Lap...\n",
              "3  00017563c3f7919a  :If you have a look back at the source, the in...\n",
              "4  00017695ad8997eb          I don't anonymously edit articles at all."
            ]
          },
          "metadata": {
            "tags": []
          },
          "execution_count": 69
        }
      ]
    },
    {
      "cell_type": "code",
      "metadata": {
        "id": "TwfHuTiNAk32",
        "colab_type": "code",
        "colab": {}
      },
      "source": [
        "test_data['preprocessed_comments']=test_data['comment_text'].apply(preprocessed)\n",
        "test_sentences_comments=test_data['preprocessed_comments'].values"
      ],
      "execution_count": 70,
      "outputs": []
    },
    {
      "cell_type": "code",
      "metadata": {
        "id": "zZVe9buJAk6j",
        "colab_type": "code",
        "colab": {}
      },
      "source": [
        "test_sequences=tokenizer.texts_to_sequences(test_sentences_comments)"
      ],
      "execution_count": 71,
      "outputs": []
    },
    {
      "cell_type": "code",
      "metadata": {
        "id": "8C6oRE7HAk_1",
        "colab_type": "code",
        "colab": {}
      },
      "source": [
        "test_data_seq=pad_sequences(test_sequences,maxlen=MAX_SEQUENCE_LENGTH)"
      ],
      "execution_count": 72,
      "outputs": []
    },
    {
      "cell_type": "code",
      "metadata": {
        "id": "14UyJTo7Ak-a",
        "colab_type": "code",
        "colab": {}
      },
      "source": [
        "test_predictions=model.predict(test_data_seq)"
      ],
      "execution_count": 73,
      "outputs": []
    },
    {
      "cell_type": "code",
      "metadata": {
        "id": "6I7BS4VcA0Oj",
        "colab_type": "code",
        "colab": {}
      },
      "source": [
        "result_df=pd.DataFrame(data=test_predictions,columns=possible_labels,index=test_data.id)"
      ],
      "execution_count": 74,
      "outputs": []
    },
    {
      "cell_type": "code",
      "metadata": {
        "id": "L8NfAUzFA0Rt",
        "colab_type": "code",
        "colab": {
          "base_uri": "https://localhost:8080/",
          "height": 235
        },
        "outputId": "4e6a6386-3435-4ed3-a739-37f5c51977c3"
      },
      "source": [
        "result_df.head()"
      ],
      "execution_count": 75,
      "outputs": [
        {
          "output_type": "execute_result",
          "data": {
            "text/html": [
              "<div>\n",
              "<style scoped>\n",
              "    .dataframe tbody tr th:only-of-type {\n",
              "        vertical-align: middle;\n",
              "    }\n",
              "\n",
              "    .dataframe tbody tr th {\n",
              "        vertical-align: top;\n",
              "    }\n",
              "\n",
              "    .dataframe thead th {\n",
              "        text-align: right;\n",
              "    }\n",
              "</style>\n",
              "<table border=\"1\" class=\"dataframe\">\n",
              "  <thead>\n",
              "    <tr style=\"text-align: right;\">\n",
              "      <th></th>\n",
              "      <th>toxic</th>\n",
              "      <th>severe_toxic</th>\n",
              "      <th>obscene</th>\n",
              "      <th>threat</th>\n",
              "      <th>insult</th>\n",
              "      <th>identity_hate</th>\n",
              "    </tr>\n",
              "    <tr>\n",
              "      <th>id</th>\n",
              "      <th></th>\n",
              "      <th></th>\n",
              "      <th></th>\n",
              "      <th></th>\n",
              "      <th></th>\n",
              "      <th></th>\n",
              "    </tr>\n",
              "  </thead>\n",
              "  <tbody>\n",
              "    <tr>\n",
              "      <th>00001cee341fdb12</th>\n",
              "      <td>0.997365</td>\n",
              "      <td>0.747027</td>\n",
              "      <td>0.948352</td>\n",
              "      <td>2.500340e-01</td>\n",
              "      <td>0.955383</td>\n",
              "      <td>0.756898</td>\n",
              "    </tr>\n",
              "    <tr>\n",
              "      <th>0000247867823ef7</th>\n",
              "      <td>0.000761</td>\n",
              "      <td>0.000065</td>\n",
              "      <td>0.000145</td>\n",
              "      <td>2.344406e-07</td>\n",
              "      <td>0.000128</td>\n",
              "      <td>0.000017</td>\n",
              "    </tr>\n",
              "    <tr>\n",
              "      <th>00013b17ad220c46</th>\n",
              "      <td>0.003128</td>\n",
              "      <td>0.000304</td>\n",
              "      <td>0.003160</td>\n",
              "      <td>9.205747e-05</td>\n",
              "      <td>0.001777</td>\n",
              "      <td>0.000757</td>\n",
              "    </tr>\n",
              "    <tr>\n",
              "      <th>00017563c3f7919a</th>\n",
              "      <td>0.001096</td>\n",
              "      <td>0.000004</td>\n",
              "      <td>0.000378</td>\n",
              "      <td>1.358188e-05</td>\n",
              "      <td>0.000219</td>\n",
              "      <td>0.000007</td>\n",
              "    </tr>\n",
              "    <tr>\n",
              "      <th>00017695ad8997eb</th>\n",
              "      <td>0.002158</td>\n",
              "      <td>0.000315</td>\n",
              "      <td>0.001962</td>\n",
              "      <td>9.907693e-05</td>\n",
              "      <td>0.001038</td>\n",
              "      <td>0.000136</td>\n",
              "    </tr>\n",
              "  </tbody>\n",
              "</table>\n",
              "</div>"
            ],
            "text/plain": [
              "                     toxic  severe_toxic  ...    insult  identity_hate\n",
              "id                                        ...                         \n",
              "00001cee341fdb12  0.997365      0.747027  ...  0.955383       0.756898\n",
              "0000247867823ef7  0.000761      0.000065  ...  0.000128       0.000017\n",
              "00013b17ad220c46  0.003128      0.000304  ...  0.001777       0.000757\n",
              "00017563c3f7919a  0.001096      0.000004  ...  0.000219       0.000007\n",
              "00017695ad8997eb  0.002158      0.000315  ...  0.001038       0.000136\n",
              "\n",
              "[5 rows x 6 columns]"
            ]
          },
          "metadata": {
            "tags": []
          },
          "execution_count": 75
        }
      ]
    },
    {
      "cell_type": "code",
      "metadata": {
        "id": "v-dC8a0pA0W3",
        "colab_type": "code",
        "colab": {}
      },
      "source": [
        "result_df.to_csv(r'Bidirectional_Lstm64_GloVe_with_preprocessing.csv')"
      ],
      "execution_count": 76,
      "outputs": []
    },
    {
      "cell_type": "code",
      "metadata": {
        "id": "QmLwmDUiSzv4",
        "colab_type": "code",
        "colab": {}
      },
      "source": [
        ""
      ],
      "execution_count": null,
      "outputs": []
    }
  ]
}